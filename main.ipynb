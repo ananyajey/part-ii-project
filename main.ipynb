{
 "cells": [
  {
   "attachments": {},
   "cell_type": "markdown",
   "metadata": {},
   "source": [
    "# set up"
   ]
  },
  {
   "cell_type": "code",
   "execution_count": 1,
   "metadata": {},
   "outputs": [],
   "source": [
    "%load_ext autoreload\n",
    "%autoreload 2"
   ]
  },
  {
   "cell_type": "code",
   "execution_count": 2,
   "metadata": {},
   "outputs": [],
   "source": [
    "# Imports\n",
    "\n",
    "import os\n",
    "from PIL import Image\n",
    "import random\n",
    "import numpy as np\n",
    "import tensorflow as tf\n",
    "\n",
    "from tensorflow.keras import datasets, layers, models\n",
    "import matplotlib.pyplot as plt\n",
    "import math\n",
    "\n",
    "from visualization_new import *\n",
    "\n",
    "import wave\n",
    "import librosa\n",
    "from unidecode import unidecode\n",
    "import csv\n",
    "\n",
    "from IPython.display import Audio\n",
    "import librosa"
   ]
  },
  {
   "attachments": {},
   "cell_type": "markdown",
   "metadata": {},
   "source": [
    "# image prep"
   ]
  },
  {
   "cell_type": "code",
   "execution_count": 3,
   "metadata": {},
   "outputs": [],
   "source": [
    "'''def get_genres(audio_folderpath):\n",
    "    genre_id = {}\n",
    "\n",
    "    for genre in os.listdir(audio_folderpath):\n",
    "        i = 1\n",
    "        while (genre[:i] in genre_id.values() and i <= len(genre)):\n",
    "            i += 1\n",
    "        genre_id[genre] = genre[:i]\n",
    "    \n",
    "    return genre_id\n",
    "'''"
   ]
  },
  {
   "cell_type": "code",
   "execution_count": 4,
   "metadata": {},
   "outputs": [],
   "source": [
    "'''# audio dict (initial)\n",
    "def get_audio_dict(audio_folderpath, genre_id):\n",
    "    audio_dict = {}\n",
    "\n",
    "    for genre in genre_id:\n",
    "        files = os.listdir(os.path.join(audio_folderpath, genre))\n",
    "        count = 0\n",
    "        # TODO: given an audio dictionary, find what max count for a genre is\n",
    "        for file in files:\n",
    "            filepath = os.path.join(audio_folderpath, genre, file)\n",
    "            id = genre_id[genre] + '{:03d}'.format(count)\n",
    "            count += 1\n",
    "            audio_dict[id] = filepath\n",
    "    \n",
    "    return audio_dict\n",
    "\n",
    "def create_csv(csv_filepath, audio_dict):\n",
    "    with open(csv_filepath, 'w', newline='') as file:\n",
    "        writer = csv.writer(file)\n",
    "        writer.writerows(list(audio_dict.items()))\n",
    "\n",
    "\n",
    "# audio dict (after initial)\n",
    "def get_audio_dict_csv(csv_filepath):\n",
    "    with open(csv_filepath, 'r') as file:\n",
    "        reader = csv.reader(file)\n",
    "        #next(reader)\n",
    "        audio_dict = {row[0]: row[1] for row in reader}\n",
    "    \n",
    "    return audio_dict'''"
   ]
  },
  {
   "cell_type": "code",
   "execution_count": 5,
   "metadata": {},
   "outputs": [],
   "source": [
    "'''def split_train_test(id_list, ratio):\n",
    "    random.shuffle(id_list)\n",
    "    split_index = int(ratio * len(id_list))\n",
    "\n",
    "    train_set = id_list[:split_index]\n",
    "    test_set = id_list[split_index:]\n",
    "\n",
    "    return train_set, test_set\n",
    "\n",
    "def split_k_fold(id_list, n_batches):\n",
    "    random.shuffle(id_list)\n",
    "    batches = []\n",
    "    index = 0\n",
    "    batch_size = math.ceil(len(id_list)/n_batches)\n",
    "    \n",
    "    for i in range(n_batches - 1):\n",
    "        batches.append(id_list[index:index+batch_size])\n",
    "        index += batch_size\n",
    "    batches.append(id_list[index:len(id_list)-1])\n",
    "\n",
    "    return batches\n",
    "'''"
   ]
  },
  {
   "cell_type": "code",
   "execution_count": 6,
   "metadata": {},
   "outputs": [],
   "source": [
    "'''def get_image_func(image_type):\n",
    "    if image_type == \"spectrogram\":\n",
    "        return wav_to_spectrogram\n",
    "    elif image_type == \"chromagram\":\n",
    "        return wav_to_chromagram\n",
    "    elif image_type == \"mfcc\":\n",
    "        return wav_to_mfcc\n",
    "    elif image_type == \"cochleagram\":\n",
    "        return wav_to_cochleagram\n",
    "    else:\n",
    "        return\n",
    "    \n",
    "'''"
   ]
  },
  {
   "cell_type": "code",
   "execution_count": null,
   "metadata": {},
   "outputs": [],
   "source": [
    "def to_image(sp)"
   ]
  },
  {
   "cell_type": "code",
   "execution_count": 7,
   "metadata": {},
   "outputs": [],
   "source": [
    "# Set constants\n",
    "\n",
    "# Paths\n",
    "dataset = \"small\"\n",
    "\n",
    "if dataset == \"small\":\n",
    "    audio_folderpath = \"C:/Users/anany/Cambridge/Part II Project/data/audio/small\"\n",
    "    image_folderpath = \"C:/Users/anany/Cambridge/Part II Project/data/images/small\"\n",
    "    csv_filepath = \"C:/Users/anany/Cambridge/Part II Project/data/small.csv\"\n",
    "if dataset == \"large\":\n",
    "    audio_folderpath = \"C:/Users/anany/Cambridge/Part II Project/data/audio/large\"\n",
    "    image_folderpath = \"C:/Users/anany/Cambridge/Part II Project/data/images/large\"\n",
    "    csv_filepath = \"C:/Users/anany/Cambridge/Part II Project/data/large.csv\"\n",
    "\n",
    "image_type = \"spectrogram\"\n",
    "to_image = get_image_func(image_type)\n",
    "\n",
    "# Image options\n",
    "clip_length = 10\n",
    "shift_length = 50\n",
    "resize_dim = 30\n",
    "save = False\n",
    "\n",
    "# Model parameters\n",
    "generate = True\n",
    "split_ratio = 0.8\n",
    "k_folds = 5 # Only relevant if cross_validation is True\n",
    "cross_validation = True\n",
    "epochs = 6\n",
    "gen_batch_size = 30 # Only relevant if generate is True\n",
    "model_batch_size = 32"
   ]
  },
  {
   "cell_type": "code",
   "execution_count": 8,
   "metadata": {},
   "outputs": [],
   "source": [
    "'''def get_labels(id_list, label_list):\n",
    "    labels = np.array([label_list.index(x[0]) for x in id_list])\n",
    "    labels = labels.reshape((len(labels), 1))\n",
    "    return labels'''"
   ]
  },
  {
   "cell_type": "code",
   "execution_count": 9,
   "metadata": {},
   "outputs": [],
   "source": [
    "'''def image_split_label(id, audio_dict, clip_length, shift_length, resize_dim, label_list, image_folderpath = None):\n",
    "    '''\n",
    "    '''If folderpath is None, convert the audio file. If a folderpath is provided, obtain the images from this path.\n",
    "    Returns\n",
    "    -------\n",
    "    ids: list\n",
    "    imgs: numpy array\n",
    "    labels: numpy array'''\n",
    "    '''\n",
    "    ids = []\n",
    "    imgs = None\n",
    "    labels = None\n",
    "\n",
    "    # CONVERT/GET\n",
    "    if image_folderpath == None:\n",
    "        filepath = audio_dict[id]\n",
    "        images = to_image(filepath)\n",
    "\n",
    "    # SPLIT\n",
    "    for i in range(2):\n",
    "        if image_folderpath == None:\n",
    "            img = images[i]\n",
    "        else:\n",
    "            filepath = os.path.join(image_folderpath, f\"{id}_ch{i}.png\")\n",
    "            assert(os.path.exists(filepath)), f\"This filepath does not  exist: {filepath}\"\n",
    "            img = Image.open(filepath)\n",
    "        img_dict = split(img, id + \"_ch\" + str(i), clip_length, shift_length, resize_dim)\n",
    "        \n",
    "        # Set/update audio sample id list\n",
    "        ids.extend(list(img_dict.keys()))\n",
    "\n",
    "        # Set/update array of image arrays\n",
    "        if imgs is None:\n",
    "            imgs = np.array(list(img_dict.values()))\n",
    "        else:\n",
    "            imgs = np.append(imgs, np.array(list(img_dict.values())), axis = 0)\n",
    "\n",
    "    # LABEL\n",
    "    labels = get_labels(ids, label_list=label_list)\n",
    "\n",
    "    return ids, imgs, labels\n",
    "\n",
    "    '''"
   ]
  },
  {
   "cell_type": "code",
   "execution_count": 10,
   "metadata": {},
   "outputs": [],
   "source": [
    "'''def special_character_check(audio_folderpath):\n",
    "    for genre in os.listdir(audio_folderpath):\n",
    "        files = os.listdir(os.path.join(audio_folderpath, genre))\n",
    "        for file in files:\n",
    "            if file != unidecode(file):\n",
    "                filepath = os.path.join(audio_folderpath, genre, file)\n",
    "                if unidecode(filepath) != filepath:\n",
    "                    print(filepath)'''"
   ]
  },
  {
   "attachments": {},
   "cell_type": "markdown",
   "metadata": {},
   "source": [
    "# train/test"
   ]
  },
  {
   "attachments": {},
   "cell_type": "markdown",
   "metadata": {},
   "source": [
    "## without gen"
   ]
  },
  {
   "cell_type": "code",
   "execution_count": 11,
   "metadata": {},
   "outputs": [],
   "source": [
    "'''def convert_and_save(id_list, audio_dict, image_type, image_folderpath):\n",
    "    count = 0\n",
    "    to_image = get_image_func(image_type)\n",
    "    for id in id_list:\n",
    "    # CONVERT\n",
    "        count += 1\n",
    "        print(f\"{count}/{len(id_list)}    {id}\", end=\"\")\n",
    "        filepath = audio_dict[id]\n",
    "        images = to_image(filepath)\n",
    "\n",
    "        # SAVE\n",
    "        for i in range(2):\n",
    "            images[i].save(os.path.join(image_folderpath, f\"{id}_ch{i}.png\"))\n",
    "        print(\"   DONE\")'''"
   ]
  },
  {
   "cell_type": "code",
   "execution_count": 12,
   "metadata": {},
   "outputs": [],
   "source": [
    "'''def return_data(id_list, audio_dict, clip_length, shift_length, resize_dim, label_list, image_type = None, image_folderpath=None):\n",
    "    ids = None\n",
    "    imgs = None\n",
    "    labels = None\n",
    "\n",
    "\n",
    "    count = 0\n",
    "    for id in id_list:\n",
    "\n",
    "        # Convert to images, split, and get labels\n",
    "        split_ids, split_imgs, split_labels = image_split_label(id, audio_dict=audio_dict, clip_length=clip_length, shift_length=shift_length, resize_dim=resize_dim, label_list=label_list, image_type=image_type, image_folderpath=image_folderpath)\n",
    "        \n",
    "        # Set/update audio sample id list\n",
    "        if ids is None:\n",
    "            ids = split_ids\n",
    "        else:\n",
    "            ids = np.append(ids, split_ids, axis = 0)\n",
    "\n",
    "        # Set/update array of image arrays\n",
    "        if imgs is None:\n",
    "            imgs = np.array(split_imgs)\n",
    "        else:\n",
    "            imgs = np.append(imgs, split_imgs, axis = 0)\n",
    "\n",
    "        # Set/update array of image labels\n",
    "        if labels is None:\n",
    "            labels = split_labels\n",
    "        else:\n",
    "            labels = np.append(labels, split_labels, axis = 0)\n",
    "\n",
    "        count += 1\n",
    "    \n",
    "    # Shuffle\n",
    "    indices = random.sample(range(len(ids)), len(ids))\n",
    "    ids = ids[indices]\n",
    "    imgs = imgs[indices]\n",
    "    labels = labels[indices]\n",
    "    \n",
    "    return ids, imgs, labels'''"
   ]
  },
  {
   "cell_type": "code",
   "execution_count": 13,
   "metadata": {},
   "outputs": [
    {
     "data": {
      "text/plain": [
       "\"def createModel2():\\n    model = models.Sequential()\\n    # The first two layers with 32 filters of window size 3x3\\n    #model.add(models.Conv2D(32, (3, 3), padding='same', activation='relu', input_shape=x_train[0].shape))\\n    model.add(layers.Conv2D(32, (3, 3), activation='relu', input_shape=x_train[0].shape))\\n    \\n    model.add(models.Conv2D(32, (3, 3), activation='relu'))\\n    model.add(models.MaxPooling2D(pool_size=(2, 2)))\\n    model.add(models.Dropout(0.25))\\n\\n    model.add(models.Conv2D(64, (3, 3), padding='same', activation='relu'))\\n    model.add(models.Conv2D(64, (3, 3), activation='relu'))\\n    model.add(models.MaxPooling2D(pool_size=(2, 2)))\\n    model.add(models.Dropout(0.25))\\n\\n    model.add(models.Conv2D(64, (3, 3), padding='same', activation='relu'))\\n    model.add(models.models.Conv2D(64, (3, 3), activation='relu'))\\n    model.add(models.MaxPooling2D(pool_size=(2, 2)))\\n    model.add(models.Dropout(0.25))\\n\\n    model.add(models.Flatten())\\n    model.add(models.Dense(512, activation='relu'))\\n    model.add(models.Dropout(0.5))\\n    model.add(models.Dense(models.nClasses, activation='softmax'))\\n    \\n    return model\""
      ]
     },
     "execution_count": 13,
     "metadata": {},
     "output_type": "execute_result"
    }
   ],
   "source": [
    "'''def createModel(input_shape, type=1):\n",
    "    if type == 1:\n",
    "        model = models.Sequential()\n",
    "        model.add(layers.Conv2D(32, (3, 3), activation='relu', input_shape=input_shape))\n",
    "        model.add(layers.MaxPooling2D((2, 2)))\n",
    "        model.add(layers.Conv2D(64, (3, 3), activation='relu'))\n",
    "        model.add(layers.MaxPooling2D((2, 2)))\n",
    "        model.add(layers.Conv2D(64, (3, 3), activation='relu'))\n",
    "\n",
    "        model.add(layers.Flatten())\n",
    "        model.add(layers.Dense(64, activation='relu'))\n",
    "        model.add(layers.Dense(5))\n",
    "    \n",
    "    return model'''\n",
    "\n",
    "'''def createModel2():\n",
    "    model = models.Sequential()\n",
    "    # The first two layers with 32 filters of window size 3x3\n",
    "    #model.add(models.Conv2D(32, (3, 3), padding='same', activation='relu', input_shape=x_train[0].shape))\n",
    "    model.add(layers.Conv2D(32, (3, 3), activation='relu', input_shape=x_train[0].shape))\n",
    "    \n",
    "    model.add(models.Conv2D(32, (3, 3), activation='relu'))\n",
    "    model.add(models.MaxPooling2D(pool_size=(2, 2)))\n",
    "    model.add(models.Dropout(0.25))\n",
    "\n",
    "    model.add(models.Conv2D(64, (3, 3), padding='same', activation='relu'))\n",
    "    model.add(models.Conv2D(64, (3, 3), activation='relu'))\n",
    "    model.add(models.MaxPooling2D(pool_size=(2, 2)))\n",
    "    model.add(models.Dropout(0.25))\n",
    "\n",
    "    model.add(models.Conv2D(64, (3, 3), padding='same', activation='relu'))\n",
    "    model.add(models.models.Conv2D(64, (3, 3), activation='relu'))\n",
    "    model.add(models.MaxPooling2D(pool_size=(2, 2)))\n",
    "    model.add(models.Dropout(0.25))\n",
    "\n",
    "    model.add(models.Flatten())\n",
    "    model.add(models.Dense(512, activation='relu'))\n",
    "    model.add(models.Dropout(0.5))\n",
    "    model.add(models.Dense(models.nClasses, activation='softmax'))\n",
    "    \n",
    "    return model'''"
   ]
  },
  {
   "cell_type": "code",
   "execution_count": 14,
   "metadata": {},
   "outputs": [],
   "source": [
    "genre_id = get_genres(audio_folderpath)\n",
    "genre_list = list(genre_id.keys())\n",
    "label_list = [genre_id[genre] for genre in genre_list]\n",
    "\n",
    "if save:\n",
    "    audio_dict = get_audio_dict(audio_folderpath, genre_id) # TODO: CHANGE TO MAKE??\n",
    "    all_song_ids = list(audio_dict.keys())\n",
    "    convert_and_save(all_song_ids, audio_dict=audio_dict, image_type=image_type, image_folderpath=image_folderpath)\n",
    "    create_csv(csv_filepath=csv_filepath, audio_dict=audio_dict)\n",
    "\n",
    "else:\n",
    "    audio_dict = get_audio_dict_csv(csv_filepath=csv_filepath)\n",
    "    all_song_ids = list(audio_dict.keys())"
   ]
  },
  {
   "cell_type": "code",
   "execution_count": 15,
   "metadata": {},
   "outputs": [],
   "source": [
    "if not cross_validation and not generate:\n",
    "    train_song_ids, val_song_ids = split_train_test(id_list=all_song_ids, ratio=split_ratio)\n",
    "    train_clip_ids, x_train, y_train = return_data(train_song_ids, audio_dict=audio_dict, clip_length=clip_length, shift_length=shift_length, resize_dim=resize_dim, label_list=label_list, image_folderpath=image_folderpath)\n",
    "    val_clip_ids, x_val, y_val = return_data(val_song_ids, audio_dict=audio_dict, clip_length=clip_length, shift_length=shift_length, resize_dim=resize_dim, label_list=label_list, image_folderpath=image_folderpath)\n",
    "\n",
    "    model = createModel(type=1, input_shape=x_train[0].shape)\n",
    "\n",
    "    model.compile(optimizer=tf.keras.optimizers.SGD(learning_rate=0.001),\n",
    "                loss=tf.keras.losses.SparseCategoricalCrossentropy(from_logits=True),\n",
    "                metrics=['accuracy'])\n",
    "\n",
    "    history = model.fit(x_train, y_train, epochs=epochs, \n",
    "                        validation_data=(x_val, y_val))\n",
    "\n",
    "    test_clip_confusion = np.zeros((len(label_list), len(label_list)))\n",
    "\n",
    "    test_song_ids = val_song_ids\n",
    "    test_clip_ids = val_clip_ids\n",
    "    test_clip_pred_probs = model.predict(x_val)\n",
    "    test_clip_pred_classes = test_clip_pred_probs.argmax(axis=1)\n",
    "    test_clip_actual_classes = y_val.T[0]\n",
    "    for i in range(len(test_clip_pred_classes)):\n",
    "        test_clip_confusion[test_clip_pred_classes[i]][test_clip_actual_classes[i]] += 1\n",
    "    \n",
    "    norm_test_clip_confusion = np.zeros((len(label_list), len(label_list)))\n",
    "    for i in range(len(label_list)):\n",
    "        norm_test_clip_confusion[:, i] = test_clip_confusion[:, i]/sum(test_clip_confusion[:, i])\n",
    "\n",
    "    test_clip_vote_array = np.zeros((len(test_clip_ids), len(label_list)))\n",
    "    test_clip_vote_array += np.eye(5)[test_clip_pred_classes]\n",
    "    #test_votes = (test_clip_ids, test_clip_vote_array)\n"
   ]
  },
  {
   "cell_type": "code",
   "execution_count": 16,
   "metadata": {},
   "outputs": [],
   "source": [
    "if cross_validation and not generate:\n",
    "    train_val_song_ids, test_song_ids = split_train_test(all_song_ids, split_ratio)\n",
    "    batches = split_k_fold(train_val_song_ids, k_folds)\n",
    "\n",
    "    loss = []\n",
    "    accuracy = []\n",
    "    val_loss = []\n",
    "    val_accuracy = []\n",
    "\n",
    "    val_clip_confusion = np.zeros((len(label_list), len(label_list)))\n",
    "    norm_val_clip_confusion = np.zeros((len(label_list), len(label_list)))\n",
    "    val_clip_vote_ids = []\n",
    "    val_clip_vote_array = []\n",
    "\n",
    "\n",
    "    test_clip_confusion = np.zeros((len(label_list), len(label_list)))\n",
    "    norm_test_clip_confusion = np.zeros((len(label_list), len(label_list)))\n",
    "\n",
    "    test_clip_ids, x_test, y_test = return_data(test_song_ids, audio_dict=audio_dict, clip_length=clip_length, shift_length=shift_length, resize_dim=resize_dim, label_list=label_list, image_folderpath=image_folderpath)\n",
    "\n",
    "    test_clip_vote_ids = test_clip_ids\n",
    "    test_clip_vote_array = np.zeros((len(test_clip_ids), len(label_list)))\n",
    "    \n",
    "\n",
    "    for b in range(len(batches)):\n",
    "\n",
    "        # Get data\n",
    "        if b != len(batches) - 1:\n",
    "            train_song_ids = batches[0:b] + batches[b+1:]\n",
    "        else:\n",
    "            train_song_ids = batches[:-1]\n",
    "        \n",
    "        train_song_ids = [item for batch in train_song_ids for item in batch]\n",
    "        val_song_ids = batches[b]\n",
    "\n",
    "        train_clip_ids, x_train, y_train = return_data(train_song_ids, audio_dict=audio_dict, clip_length=clip_length, shift_length=shift_length, resize_dim=resize_dim, label_list=label_list, image_folderpath=image_folderpath)\n",
    "        val_clip_ids, x_val, y_val = return_data(val_song_ids, audio_dict=audio_dict, clip_length=clip_length, shift_length=shift_length, resize_dim=resize_dim, label_list=label_list, image_folderpath=image_folderpath)\n",
    "\n",
    "\n",
    "        # Create model\n",
    "        model = createModel(type=1, input_shape=x_train[0].shape)\n",
    "\n",
    "        model.compile(optimizer=tf.keras.optimizers.SGD(learning_rate=0.001),\n",
    "                    loss=tf.keras.losses.SparseCategoricalCrossentropy(from_logits=True),\n",
    "                    metrics=['accuracy'])\n",
    "        \n",
    "        # Train model\n",
    "        history = model.fit(x_train, y_train, epochs=epochs, \n",
    "                            validation_data=(x_val, y_val))\n",
    "        \n",
    "        # Get results\n",
    "        loss.append(np.array(history.history['loss']))\n",
    "        accuracy.append(np.array(history.history['accuracy']))\n",
    "        val_loss.append(np.array(history.history['val_loss']))\n",
    "        val_accuracy.append(np.array(history.history['val_accuracy']))\n",
    "\n",
    "        # Validation classification results\n",
    "        val_clip_pred_probs = model.predict(x_val)\n",
    "        val_clip_pred_classes = val_clip_pred_probs.argmax(axis=1)\n",
    "        val_actual = y_val.T[0]\n",
    "        for i in range(len(val_clip_pred_classes)):\n",
    "            val_clip_confusion[val_clip_pred_classes[i]][val_actual[i]] += 1\n",
    "        val_clip_vote_ids.append(val_clip_ids)\n",
    "        val_clip_vote_array.append(np.eye(len(label_list))[val_clip_pred_classes])\n",
    "        \n",
    "\n",
    "        # Test classification results\n",
    "        test_clip_pred_probs = model.predict(x_test)\n",
    "        test_clip_pred_classes = test_clip_pred_probs.argmax(axis=1)\n",
    "        test_clip_actual_classes = y_test.T[0]\n",
    "        for i in range(len(test_clip_pred_classes)):\n",
    "            test_clip_confusion[test_clip_pred_classes[i]][test_clip_actual_classes[i]] += 1\n",
    "        test_clip_vote_array += np.eye(len(label_list))[test_clip_pred_classes]\n",
    "\n",
    "    loss = np.array(loss)\n",
    "    accuracy = np.array(accuracy)\n",
    "    val_loss = np.array(val_loss)\n",
    "    val_accuracy = np.array(val_accuracy)\n",
    "\n",
    "    val_clip_vote_ids = np.concatenate(val_clip_vote_ids, axis=0)\n",
    "    val_clip_vote_array = np.vstack(val_clip_vote_array)\n",
    "\n",
    "    for i in range(len(label_list)):\n",
    "        norm_val_clip_confusion[:, i] = val_clip_confusion[:, i]/sum(val_clip_confusion[:, i])\n",
    "        norm_test_clip_confusion[:, i] = test_clip_confusion[:, i]/sum(test_clip_confusion[:, i])"
   ]
  },
  {
   "cell_type": "code",
   "execution_count": 17,
   "metadata": {},
   "outputs": [],
   "source": [
    "# accumulate for crossval, same thing for gen"
   ]
  },
  {
   "attachments": {},
   "cell_type": "markdown",
   "metadata": {},
   "source": [
    "## with gen"
   ]
  },
  {
   "cell_type": "code",
   "execution_count": 18,
   "metadata": {},
   "outputs": [],
   "source": [
    "'''def generate_data(id_list, audio_dict, clip_length, shift_length, resize_dim, label_list, image_type = None, image_folderpath = None, gen_batch_size = 1, model_batch_size = None, mode = \"train\"):\n",
    "    '''\n",
    "    '''Parameters\n",
    "    ----------\n",
    "    id_list\n",
    "        List of song IDs to be converted into images\n",
    "\n",
    "    folderpath\n",
    "        Path sa\n",
    "    \n",
    "    n\n",
    "        Number of songs to convert each iteration\n",
    "    \n",
    "    mode\n",
    "        \"generate\" or \"return\"\n",
    "\n",
    "    Returns\n",
    "    -------\n",
    "    imgs\n",
    "        Arrays of converted images\n",
    "\n",
    "    labels\n",
    "        Respective labels for converted images in imgs'''\n",
    "\n",
    "    '''\n",
    "    out_ids = []\n",
    "    out_imgs = None\n",
    "    out_labels = None\n",
    "    n_count = 0\n",
    "    id_count = 0\n",
    "\n",
    "    if mode == \"train\":\n",
    "    \n",
    "        while True:\n",
    "                \n",
    "            '''\n",
    "            # convert 1 song\n",
    "            # update out_... values\n",
    "            # update bigcount and smallcount\n",
    "            # if smallcount mod n is 0:\n",
    "                # shuffle all 3\n",
    "                # update appropriate id list\n",
    "                # yield id and label values\n",
    "                # set everything to none\n",
    "            \n",
    "            # if bigcount == len(idlist):\n",
    "                # count = 0\n",
    "                # shuffle list?\n",
    "            '''\n",
    "\n",
    "            # convert 1 song\n",
    "            id = id_list[id_count]\n",
    "            #print(id_count, id)\n",
    "            \n",
    "            new_ids, new_imgs, new_labels = image_split_label(id, audio_dict=audio_dict, clip_length=clip_length, shift_length=shift_length, resize_dim=resize_dim, label_list=label_list, image_type=image_type, image_folderpath=image_folderpath)\n",
    "\n",
    "            out_ids.extend(new_ids)\n",
    "\n",
    "            if out_imgs is None:\n",
    "                out_imgs = new_imgs\n",
    "                out_labels = new_labels\n",
    "            else:\n",
    "                out_imgs = np.append(out_imgs, new_imgs, axis=0)\n",
    "                out_labels = np.append(out_labels, new_labels, axis=0)\n",
    "\n",
    "            # update bigcount and smallcount\n",
    "            n_count += 1\n",
    "            id_count += 1\n",
    "\n",
    "            #print(id_count, id)\n",
    "\n",
    "            if (n_count % gen_batch_size == 0) or (id_count == len(id_list)):\n",
    "                assert(len(out_ids) == len(out_imgs) == len(out_labels)), \"Something went wrong when generating, the dimensions of ids, imgs, and labels do not match.\" # sanity check\n",
    "                perm = np.random.permutation(len(out_ids))\n",
    "                out_imgs = out_imgs[perm]\n",
    "                out_labels = out_labels[perm]\n",
    "                if model_batch_size is None:\n",
    "                    yield out_imgs, out_labels\n",
    "                else:\n",
    "                    while len(out_labels) >= model_batch_size:\n",
    "                        yield out_imgs[:model_batch_size], out_labels[:model_batch_size]\n",
    "                        out_imgs = out_imgs[model_batch_size:]\n",
    "                        out_labels = out_labels[model_batch_size:]\n",
    "\n",
    "                out_ids = []\n",
    "                out_imgs = None\n",
    "                out_labels = None\n",
    "            \n",
    "                if id_count == len(id_list):\n",
    "                    id_count = 0\n",
    "                    n_count = 0\n",
    "                    random.shuffle(id_list)\n",
    "\n",
    "    if mode == \"test\":\n",
    "        # TODO return just images without shuffling\n",
    "        while id_count < len(id_list):\n",
    "            # convert 1 song\n",
    "            id = id_list[id_count]\n",
    "            print(id_count, id)\n",
    "            \n",
    "            new_ids, new_imgs, new_labels = image_split_label(id, image_type=image_type, image_folderpath=image_folderpath, audio_dict=audio_dict, clip_length=clip_length, shift_length=shift_length, resize_dim=resize_dim, label_list=label_list)\n",
    "\n",
    "            if out_imgs is None:\n",
    "                out_imgs = new_imgs\n",
    "            else:\n",
    "                out_imgs = np.append(out_imgs, new_imgs, axis=0)\n",
    "\n",
    "            n_count += 1\n",
    "            id_count += 1\n",
    "\n",
    "            if n_count % gen_batch_size == 0:\n",
    "                yield out_imgs\n",
    "\n",
    "                out_imgs = None                \n",
    "            \n",
    "            if id_count == len(id_list):\n",
    "                if out_imgs is not None:\n",
    "                    yield out_imgs\n",
    "    '''"
   ]
  },
  {
   "cell_type": "code",
   "execution_count": 19,
   "metadata": {},
   "outputs": [],
   "source": [
    "'''def get_clip_ids(id_list, audio_dict, clip_length, shift_length):\n",
    "    clip_id_list = []\n",
    "    for id in id_list:\n",
    "        filepath = audio_dict[id]\n",
    "        new_ids = []\n",
    "        with wave.open(filepath, \"rb\") as wav_file:\n",
    "            frame_count = wav_file.getnframes()\n",
    "            sample_rate = wav_file.getframerate()\n",
    "\n",
    "            audio_len = frame_count/sample_rate\n",
    "        for i in range(2):\n",
    "            left = 0.\n",
    "            right = left + clip_length\n",
    "            while right <= audio_len:\n",
    "                new_id = f\"{id}_ch{i}_{left}_{right}\"\n",
    "                new_ids.append(new_id)\n",
    "                left += shift_length\n",
    "                right += shift_length\n",
    "        clip_id_list = clip_id_list + new_ids\n",
    "    \n",
    "    return clip_id_list\n",
    "'''"
   ]
  },
  {
   "cell_type": "code",
   "execution_count": 21,
   "metadata": {},
   "outputs": [],
   "source": [
    "if not cross_validation and generate:       # setup train/test, \n",
    "\n",
    "    train_song_ids, val_song_ids = split_train_test(id_list=all_song_ids, ratio=split_ratio)\n",
    "\n",
    "    train_clip_set_len = len(get_clip_ids(train_song_ids, audio_dict=audio_dict, clip_length=clip_length, shift_length=shift_length))\n",
    "    val_clip_set_len = len(get_clip_ids(val_song_ids, audio_dict=audio_dict, clip_length=clip_length, shift_length=shift_length))\n",
    "\n",
    "\n",
    "    train_func = generate_data(train_song_ids, image_folderpath=image_folderpath, gen_batch_size=gen_batch_size, model_batch_size=model_batch_size, mode=\"train\", audio_dict=audio_dict, clip_length=clip_length, shift_length=shift_length, resize_dim=resize_dim, label_list=label_list)\n",
    "    val_func = generate_data(val_song_ids, image_folderpath=image_folderpath, gen_batch_size=gen_batch_size, model_batch_size=model_batch_size, mode=\"train\", audio_dict=audio_dict, clip_length=clip_length, shift_length=shift_length, resize_dim=resize_dim, label_list=label_list)\n",
    "    \n",
    "    input_shape = (resize_dim, resize_dim, 1)\n",
    "\n",
    "    model = createModel(input_shape=input_shape)\n",
    "    # TODO: what if not resized -- how to get dimensions of an \n",
    "\n",
    "    model.compile(optimizer=tf.keras.optimizers.SGD(learning_rate=0.0025),\n",
    "                loss=tf.keras.losses.SparseCategoricalCrossentropy(from_logits=True),\n",
    "                metrics=['accuracy'])\n",
    "\n",
    "    history = model.fit(train_func,\n",
    "                        steps_per_epoch=int(train_clip_set_len/model_batch_size),\n",
    "                                epochs=epochs,\n",
    "                                validation_data=val_func,\n",
    "                                validation_steps=int(val_clip_set_len/model_batch_size),\n",
    "                                shuffle=True,\n",
    "                                batch_size=model_batch_size)\n",
    "    \n",
    "    test_func = generate_data(val_song_ids, image_folderpath=image_folderpath, gen_batch_size=gen_batch_size, model_batch_size=model_batch_size, mode=\"test\", audio_dict=audio_dict, clip_length=clip_length, shift_length=shift_length, resize_dim=resize_dim, label_list=label_list)\n",
    "    test_clip_pred_probs = model.predict(test_func)\n",
    "    test_clip_pred_classes = test_clip_pred_probs.argmax(axis=1)\n",
    "\n",
    "    test_clip_ids = get_clip_ids(val_song_ids, audio_dict=audio_dict, clip_length=clip_length, shift_length=shift_length) # this is correct, val_song_ids is test_song_ids\n",
    "    test_clip_actual_classes = get_labels(test_clip_ids, label_list=label_list)\n",
    "\n",
    "    test_clip_confusion = np.zeros((len(label_list), len(label_list)))\n",
    "    for i in range(len(test_clip_pred_classes)):\n",
    "        test_clip_confusion[test_clip_pred_classes[i]][test_clip_actual_classes[i]] += 1\n",
    "    \n",
    "    norm_test_clip_confusion = np.zeros((len(label_list), len(label_list)))\n",
    "    for i in range(len(label_list)):\n",
    "        norm_test_clip_confusion[:, i] = test_clip_confusion[:, i]/sum(test_clip_confusion[:, i])\n",
    "\n",
    "    test_clip_vote_array = np.zeros((len(test_clip_ids), len(label_list)))\n",
    "    test_clip_vote_array += np.eye(5)[test_clip_pred_classes]\n",
    "\n",
    "    test_song_ids = val_song_ids\n",
    "    #test_votes = (test_clip_ids, test_vote_array)"
   ]
  },
  {
   "cell_type": "code",
   "execution_count": 22,
   "metadata": {},
   "outputs": [
    {
     "name": "stdout",
     "output_type": "stream",
     "text": [
      "Epoch 1/6\n",
      "7/7 [==============================] - 7s 1s/step - loss: 1.6092 - accuracy: 0.0000e+00 - val_loss: 1.6028 - val_accuracy: 0.0000e+00\n",
      "Epoch 2/6\n",
      "7/7 [==============================] - 11s 992ms/step - loss: 1.6090 - accuracy: 0.0000e+00 - val_loss: 1.6041 - val_accuracy: 0.0000e+00\n",
      "Epoch 3/6\n",
      "7/7 [==============================] - 11s 1s/step - loss: 1.6089 - accuracy: 0.0000e+00 - val_loss: 1.6047 - val_accuracy: 0.0000e+00\n",
      "Epoch 4/6\n",
      "7/7 [==============================] - 11s 1s/step - loss: 1.6099 - accuracy: 0.0000e+00 - val_loss: 1.6053 - val_accuracy: 0.0000e+00\n",
      "Epoch 5/6\n",
      "7/7 [==============================] - 11s 980ms/step - loss: 1.6092 - accuracy: 0.0000e+00 - val_loss: 1.6041 - val_accuracy: 0.0000e+00\n",
      "Epoch 6/6\n",
      "7/7 [==============================] - 11s 1s/step - loss: 1.6083 - accuracy: 0.0000e+00 - val_loss: 1.6057 - val_accuracy: 0.0000e+00\n",
      "0 p000\n",
      "1 j004\n",
      "2 p003\n",
      "3 h001\n",
      "4 p005\n",
      "5 p007\n",
      "6 j005\n",
      "7 r001\n",
      "1/1 [==============================] - 2s 2s/step\n",
      "0 h004\n",
      "1 b009\n",
      "2 r004\n",
      "3 h005\n",
      "4 r002\n",
      "5 j008\n",
      "6 r000\n",
      "7 b008\n",
      "8 h003\n",
      "9 r009\n",
      "1/1 [==============================] - 0s 41ms/step\n",
      "Epoch 1/6\n",
      "7/7 [==============================] - 3s 367ms/step - loss: 1.6036 - accuracy: 0.0000e+00 - val_loss: 1.6284 - val_accuracy: 0.0000e+00\n",
      "Epoch 2/6\n",
      "7/7 [==============================] - 4s 348ms/step - loss: 1.6050 - accuracy: 0.0000e+00 - val_loss: 1.6213 - val_accuracy: 0.0000e+00\n",
      "Epoch 3/6\n",
      "7/7 [==============================] - 4s 366ms/step - loss: 1.6032 - accuracy: 0.0000e+00 - val_loss: 1.6283 - val_accuracy: 0.0000e+00\n",
      "Epoch 4/6\n",
      "7/7 [==============================] - 5s 430ms/step - loss: 1.5983 - accuracy: 0.0000e+00 - val_loss: 1.6190 - val_accuracy: 0.0000e+00\n",
      "Epoch 5/6\n",
      "7/7 [==============================] - 4s 353ms/step - loss: 1.5980 - accuracy: 0.0000e+00 - val_loss: 1.6203 - val_accuracy: 0.0000e+00\n",
      "Epoch 6/6\n",
      "7/7 [==============================] - 4s 348ms/step - loss: 1.6029 - accuracy: 0.0000e+00 - val_loss: 1.6199 - val_accuracy: 0.0000e+00\n",
      "0 j002\n",
      "1 p006\n",
      "2 b006\n",
      "3 r008\n",
      "4 j009\n",
      "5 b003\n",
      "6 r007\n",
      "7 j000\n",
      "1/1 [==============================] - 0s 71ms/step\n",
      "0 h004\n",
      "1 b009\n",
      "2 r004\n",
      "3 h005\n",
      "4 r002\n",
      "5 j008\n",
      "6 r000\n",
      "7 b008\n",
      "8 h003\n",
      "9 r009\n",
      "1/1 [==============================] - 0s 36ms/step\n",
      "Epoch 1/6\n",
      "7/7 [==============================] - 3s 386ms/step - loss: 1.6129 - accuracy: 0.9241 - val_loss: 1.6150 - val_accuracy: 1.0000\n",
      "Epoch 2/6\n",
      "7/7 [==============================] - 4s 365ms/step - loss: 1.6117 - accuracy: 0.9152 - val_loss: 1.6260 - val_accuracy: 1.0000\n",
      "Epoch 3/6\n",
      "7/7 [==============================] - 4s 367ms/step - loss: 1.6117 - accuracy: 0.9286 - val_loss: 1.6335 - val_accuracy: 0.9688\n",
      "Epoch 4/6\n",
      "7/7 [==============================] - 4s 365ms/step - loss: 1.6105 - accuracy: 0.8527 - val_loss: 1.6290 - val_accuracy: 0.9375\n",
      "Epoch 5/6\n",
      "7/7 [==============================] - 4s 365ms/step - loss: 1.6110 - accuracy: 0.8170 - val_loss: 1.6238 - val_accuracy: 0.8438\n",
      "Epoch 6/6\n",
      "7/7 [==============================] - 4s 365ms/step - loss: 1.6068 - accuracy: 0.7188 - val_loss: 1.6279 - val_accuracy: 0.7188\n",
      "0 b002\n",
      "1 r005\n",
      "2 r003\n",
      "3 p001\n",
      "4 b004\n",
      "5 h008\n",
      "6 h007\n",
      "7 r010\n",
      "1/1 [==============================] - 0s 71ms/step\n",
      "0 h004\n",
      "1 b009\n",
      "2 r004\n",
      "3 h005\n",
      "4 r002\n",
      "5 j008\n",
      "6 r000\n",
      "7 b008\n",
      "8 h003\n",
      "9 r009\n",
      "1/1 [==============================] - 0s 36ms/step\n",
      "Epoch 1/6\n",
      "7/7 [==============================] - 3s 394ms/step - loss: 1.6054 - accuracy: 0.0000e+00 - val_loss: 1.6100 - val_accuracy: 0.0000e+00\n",
      "Epoch 2/6\n",
      "7/7 [==============================] - 3s 198ms/step - loss: 1.6066 - accuracy: 0.0000e+00 - val_loss: 1.6103 - val_accuracy: 0.0000e+00\n",
      "Epoch 3/6\n",
      "7/7 [==============================] - 5s 372ms/step - loss: 1.6066 - accuracy: 0.0000e+00 - val_loss: 1.6101 - val_accuracy: 0.0000e+00\n",
      "Epoch 4/6\n",
      "7/7 [==============================] - 3s 193ms/step - loss: 1.6066 - accuracy: 0.0000e+00 - val_loss: 1.6113 - val_accuracy: 0.0000e+00\n",
      "Epoch 5/6\n",
      "7/7 [==============================] - 5s 372ms/step - loss: 1.6054 - accuracy: 0.0000e+00 - val_loss: 1.6101 - val_accuracy: 0.0000e+00\n",
      "Epoch 6/6\n",
      "7/7 [==============================] - 3s 195ms/step - loss: 1.6065 - accuracy: 0.0000e+00 - val_loss: 1.6094 - val_accuracy: 0.0000e+00\n",
      "0 j001\n",
      "1 h002\n",
      "2 h006\n",
      "3 b010\n",
      "4 p004\n",
      "5 j003\n",
      "6 j007\n",
      "7 p002\n",
      "1/1 [==============================] - 0s 72ms/step\n",
      "0 h004\n",
      "1 b009\n",
      "2 r004\n",
      "3 h005\n",
      "4 r002\n",
      "5 j008\n",
      "6 r000\n",
      "7 b008\n",
      "8 h003\n",
      "9 r009\n",
      "1/1 [==============================] - 0s 39ms/step\n",
      "Epoch 1/6\n",
      "7/7 [==============================] - 2s 322ms/step - loss: 1.6105 - accuracy: 0.4241 - val_loss: 1.6057 - val_accuracy: 0.3438\n",
      "Epoch 2/6\n",
      "7/7 [==============================] - 4s 301ms/step - loss: 1.6115 - accuracy: 0.3571 - val_loss: 1.6053 - val_accuracy: 0.1875\n",
      "Epoch 3/6\n",
      "7/7 [==============================] - 4s 302ms/step - loss: 1.6104 - accuracy: 0.3214 - val_loss: 1.6067 - val_accuracy: 0.2500\n",
      "Epoch 4/6\n",
      "7/7 [==============================] - 4s 298ms/step - loss: 1.6103 - accuracy: 0.2946 - val_loss: 1.6071 - val_accuracy: 0.2188\n",
      "Epoch 5/6\n",
      "7/7 [==============================] - 4s 307ms/step - loss: 1.6095 - accuracy: 0.2589 - val_loss: 1.6076 - val_accuracy: 0.2188\n",
      "Epoch 6/6\n",
      "7/7 [==============================] - 4s 304ms/step - loss: 1.6097 - accuracy: 0.2366 - val_loss: 1.6083 - val_accuracy: 0.1875\n",
      "0 b007\n",
      "1 h000\n",
      "2 j006\n",
      "3 b001\n",
      "4 r006\n",
      "5 h009\n",
      "6 b005\n",
      "WARNING:tensorflow:5 out of the last 9 calls to <function Model.make_predict_function.<locals>.predict_function at 0x0000017C7D529120> triggered tf.function retracing. Tracing is expensive and the excessive number of tracings could be due to (1) creating @tf.function repeatedly in a loop, (2) passing tensors with different shapes, (3) passing Python objects instead of tensors. For (1), please define your @tf.function outside of the loop. For (2), @tf.function has reduce_retracing=True option that can avoid unnecessary retracing. For (3), please refer to https://www.tensorflow.org/guide/function#controlling_retracing and https://www.tensorflow.org/api_docs/python/tf/function for  more details.\n",
      "1/1 [==============================] - 0s 81ms/step\n",
      "0 h004\n",
      "1 b009\n",
      "2 r004\n",
      "3 h005\n",
      "4 r002\n",
      "5 j008\n",
      "6 r000\n",
      "7 b008\n",
      "8 h003\n",
      "9 r009\n",
      "1/1 [==============================] - 0s 38ms/step\n"
     ]
    },
    {
     "name": "stderr",
     "output_type": "stream",
     "text": [
      "C:\\Users\\anany\\AppData\\Local\\Temp\\ipykernel_22588\\3195583487.py:102: RuntimeWarning: invalid value encountered in divide\n",
      "  norm_test_clip_confusion[:, i] = test_clip_confusion[:, i]/sum(test_clip_confusion[:, i])\n"
     ]
    }
   ],
   "source": [
    "if cross_validation and generate:       # setup train/test, \n",
    "\n",
    "    train_val_song_ids, test_song_ids = split_train_test(all_song_ids, split_ratio)\n",
    "    batches = split_k_fold(train_val_song_ids, k_folds)\n",
    "\n",
    "    loss = []\n",
    "    accuracy = []\n",
    "    val_loss = []\n",
    "    val_accuracy = []\n",
    "    val_clip_confusion = np.zeros((len(label_list), len(label_list)))\n",
    "    norm_val_clip_confusion = np.zeros((len(label_list), len(label_list)))\n",
    "\n",
    "    val_clip_vote_ids = []\n",
    "    val_clip_vote_array = []\n",
    "\n",
    "\n",
    "\n",
    "    test_clip_confusion = np.zeros((len(label_list), len(label_list)))\n",
    "    norm_test_clip_confusion = np.zeros((len(label_list), len(label_list)))\n",
    "    #test_ids, x_test, y_test = return_data(test_id_list, audio_dict=audio_dict, clip_length=clip_length, shift_length=shift_length, resize_dim=resize_dim, label_list=label_list, image_folderpath=image_folderpath)\n",
    "    test_clip_ids = get_clip_ids(test_song_ids, audio_dict=audio_dict, clip_length=clip_length, shift_length=shift_length)\n",
    "    test_clip_actual_classes = get_labels(test_clip_ids, label_list=label_list)\n",
    "\n",
    "    test_clip_vote_ids = test_clip_ids\n",
    "    test_clip_vote_array = np.zeros((len(test_clip_ids), len(label_list)))\n",
    " \n",
    "    \n",
    "    for b in range(len(batches)):\n",
    "\n",
    "        # Get data\n",
    "        if b != len(batches) - 1:\n",
    "            train_song_ids = batches[0:b] + batches[b+1:]\n",
    "        else:\n",
    "            train_song_ids = batches[:-1]\n",
    "        \n",
    "        train_song_ids = [item for batch in train_song_ids for item in batch]\n",
    "        val_song_ids = batches[b]\n",
    "\n",
    "        train_func = generate_data(train_song_ids, image_folderpath=image_folderpath, gen_batch_size=gen_batch_size, model_batch_size=model_batch_size, mode=\"train\", audio_dict=audio_dict, clip_length=clip_length, shift_length=shift_length, resize_dim=resize_dim, label_list=label_list)\n",
    "        val_func = generate_data(val_song_ids, image_folderpath=image_folderpath, gen_batch_size=gen_batch_size, model_batch_size=model_batch_size, mode=\"train\", audio_dict=audio_dict, clip_length=clip_length, shift_length=shift_length, resize_dim=resize_dim, label_list=label_list)\n",
    "\n",
    "        train_clip_ids = get_clip_ids(train_song_ids, audio_dict=audio_dict, clip_length=clip_length, shift_length=shift_length)\n",
    "        val_clip_ids = get_clip_ids(val_song_ids, audio_dict=audio_dict, clip_length=clip_length, shift_length=shift_length)\n",
    "        \n",
    "        train_clip_set_len = len(train_clip_ids)\n",
    "        val_clip_set_len = len(val_clip_ids)\n",
    "\n",
    "\n",
    "        input_shape = (resize_dim, resize_dim, 1)\n",
    "\n",
    "        model = createModel(input_shape=input_shape)\n",
    "\n",
    "        model.compile(optimizer=tf.keras.optimizers.SGD(learning_rate=0.0005),\n",
    "                    loss=tf.keras.losses.SparseCategoricalCrossentropy(from_logits=True),\n",
    "                    metrics=['accuracy'])\n",
    "\n",
    "        history = model.fit(train_func,\n",
    "                            steps_per_epoch=int(train_clip_set_len/model_batch_size),\n",
    "                                    epochs=epochs,\n",
    "                                    validation_data=val_func,\n",
    "                                    validation_steps=int(val_clip_set_len/model_batch_size),\n",
    "                                    shuffle=True,\n",
    "                                    batch_size=model_batch_size)\n",
    "     \n",
    "        # Get results\n",
    "        loss.append(np.array(history.history['loss']))\n",
    "        accuracy.append(np.array(history.history['accuracy']))\n",
    "        val_loss.append(np.array(history.history['val_loss']))\n",
    "        val_accuracy.append(np.array(history.history['val_accuracy']))\n",
    "\n",
    "        # Validation classification results\n",
    "        val_pred_func = generate_data(val_song_ids, image_folderpath=image_folderpath, gen_batch_size=gen_batch_size, model_batch_size=model_batch_size, mode=\"test\", audio_dict=audio_dict, clip_length=clip_length, shift_length=shift_length, resize_dim=resize_dim, label_list=label_list)\n",
    "        val_clip_pred_probs = model.predict(val_pred_func)\n",
    "        val_clip_pred_classes = val_clip_pred_probs.argmax(axis=1)\n",
    "\n",
    "        val_clip_actual_classes = get_labels(val_clip_ids, label_list=label_list)\n",
    "        for i in range(len(val_clip_pred_classes)):\n",
    "            val_clip_confusion[val_clip_pred_classes[i]][val_clip_actual_classes[i]] += 1\n",
    "        \n",
    "        val_clip_vote_ids.append(val_clip_ids)\n",
    "        val_clip_vote_array.append(np.eye(len(label_list))[val_clip_pred_classes])\n",
    "\n",
    "        # Test classification results\n",
    "        test_clip_pred_func = generate_data(test_song_ids, image_folderpath=image_folderpath, gen_batch_size=gen_batch_size, model_batch_size=model_batch_size, mode=\"test\", audio_dict=audio_dict, clip_length=clip_length, shift_length=shift_length, resize_dim=resize_dim, label_list=label_list)\n",
    "        test_clip_pred_probs = model.predict(test_clip_pred_func)\n",
    "        test_clip_pred_classes = test_clip_pred_probs.argmax(axis=1)\n",
    "        \n",
    "        for i in range(len(test_clip_pred_classes)):\n",
    "            test_clip_confusion[test_clip_pred_classes[i]][test_clip_actual_classes[i]] += 1\n",
    "        test_clip_vote_array += np.eye(len(label_list))[test_clip_pred_classes]\n",
    "\n",
    "    loss = np.array(loss)\n",
    "    accuracy = np.array(accuracy)\n",
    "    val_loss = np.array(val_loss)\n",
    "    val_accuracy = np.array(val_accuracy)\n",
    "\n",
    "    val_clip_vote_ids = np.concatenate(val_clip_vote_ids, axis=0)\n",
    "    val_clip_vote_array = np.vstack(val_clip_vote_array)\n",
    "\n",
    "    for i in range(len(label_list)):\n",
    "        norm_val_clip_confusion[:, i] = val_clip_confusion[:, i]/sum(val_clip_confusion[:, i])\n",
    "        norm_test_clip_confusion[:, i] = test_clip_confusion[:, i]/sum(test_clip_confusion[:, i])\n"
   ]
  },
  {
   "cell_type": "code",
   "execution_count": 23,
   "metadata": {},
   "outputs": [],
   "source": [
    "'''def get_confusion_matrix(pred_classes, actual_classes, num_classes):\n",
    "    output = np.zeros(((num_classes), (num_classes)))\n",
    "    for i in range(len(pred_classes)):\n",
    "        output[pred_classes[i]][actual_classes[i]] += 1\n",
    "    \n",
    "    return output'''\n",
    "\n",
    "\n"
   ]
  },
  {
   "cell_type": "code",
   "execution_count": 24,
   "metadata": {},
   "outputs": [
    {
     "data": {
      "text/plain": [
       "'    val_clip_vote_ids = np.concatenate(val_clip_vote_ids, axis=0)\\n    val_clip_vote_array = np.vstack(val_clip_vote_array)'"
      ]
     },
     "execution_count": 24,
     "metadata": {},
     "output_type": "execute_result"
    }
   ],
   "source": [
    "'''    val_clip_vote_ids = np.concatenate(val_clip_vote_ids, axis=0)\n",
    "    val_clip_vote_array = np.vstack(val_clip_vote_array)'''"
   ]
  },
  {
   "cell_type": "code",
   "execution_count": 25,
   "metadata": {},
   "outputs": [
    {
     "data": {
      "text/plain": [
       "array([[11., 15.,  3.,  7., 16.],\n",
       "       [31., 14., 25.,  8., 23.],\n",
       "       [ 0.,  0.,  0.,  1.,  4.],\n",
       "       [ 9., 11., 11., 12.,  3.],\n",
       "       [ 9., 16., 29., 36.,  6.]])"
      ]
     },
     "execution_count": 25,
     "metadata": {},
     "output_type": "execute_result"
    }
   ],
   "source": [
    "#get_confusion_matrix(val_clip_vote_ids, val_clip_vote_array, label_list)"
   ]
  },
  {
   "cell_type": "code",
   "execution_count": 26,
   "metadata": {},
   "outputs": [
    {
     "data": {
      "text/plain": [
       "array([[11., 15.,  3.,  7., 16.],\n",
       "       [31., 14., 25.,  8., 23.],\n",
       "       [ 0.,  0.,  0.,  1.,  4.],\n",
       "       [ 9., 11., 11., 12.,  3.],\n",
       "       [ 9., 16., 29., 36.,  6.]])"
      ]
     },
     "execution_count": 26,
     "metadata": {},
     "output_type": "execute_result"
    }
   ],
   "source": [
    "val_clip_confusion"
   ]
  },
  {
   "cell_type": "code",
   "execution_count": 27,
   "metadata": {},
   "outputs": [
    {
     "data": {
      "text/plain": [
       "'get_confusion_matrix(val_clip_pred_classes, val_clip_actual_classes, len(label_list))'"
      ]
     },
     "execution_count": 27,
     "metadata": {},
     "output_type": "execute_result"
    }
   ],
   "source": [
    "'''get_confusion_matrix(val_clip_pred_classes, val_clip_actual_classes, len(label_list))'''"
   ]
  },
  {
   "cell_type": "code",
   "execution_count": 28,
   "metadata": {},
   "outputs": [
    {
     "data": {
      "text/plain": [
       "array([[11., 15.,  3.,  7., 16.],\n",
       "       [31., 14., 25.,  8., 23.],\n",
       "       [ 0.,  0.,  0.,  1.,  4.],\n",
       "       [ 9., 11., 11., 12.,  3.],\n",
       "       [ 9., 16., 29., 36.,  6.]])"
      ]
     },
     "execution_count": 28,
     "metadata": {},
     "output_type": "execute_result"
    }
   ],
   "source": [
    "val_clip_confusion"
   ]
  },
  {
   "attachments": {},
   "cell_type": "markdown",
   "metadata": {},
   "source": [
    "# graphs"
   ]
  },
  {
   "cell_type": "code",
   "execution_count": null,
   "metadata": {},
   "outputs": [],
   "source": [
    "'''def get_confusion_matrix(vote_ids, vote_array, label_list):\n",
    "    output = np.zeros((len(label_list), len(label_list)))\n",
    "    for i in range(len(vote_ids)):\n",
    "        id = vote_ids[i]\n",
    "        actual_class = id[0]\n",
    "        actual_index = label_list.index(actual_class)\n",
    "        output[:, actual_index] += vote_array[i]\n",
    "\n",
    "    return output'''"
   ]
  },
  {
   "cell_type": "code",
   "execution_count": 29,
   "metadata": {},
   "outputs": [
    {
     "data": {
      "image/png": "[encoded data removed]",
      "text/plain": [
       "<Figure size 640x480 with 1 Axes>"
      ]
     },
     "metadata": {},
     "output_type": "display_data"
    }
   ],
   "source": [
    "# Loss Function\n",
    "\n",
    "if not cross_validation:\n",
    "    plt.plot(history.history['loss'], label='Training Loss')\n",
    "    plt.plot(history.history['val_loss'], label='Validation Loss')\n",
    "    plt.title('Training and Validation Loss')\n",
    "    plt.xlabel('Epoch')\n",
    "    plt.ylabel('Loss')\n",
    "    plt.legend()\n",
    "    plt.show()\n",
    "\n",
    "\n",
    "if cross_validation:\n",
    "    plt.plot(sum(loss)/len(loss), label='Average Training Loss')\n",
    "    plt.plot(sum(val_loss)/len(loss), label='Average Validation Loss')\n",
    "    plt.title('Average Training and Validation Loss')\n",
    "    plt.xlabel('Epoch')\n",
    "    plt.ylabel('Loss')\n",
    "    plt.legend()\n",
    "    plt.show()"
   ]
  },
  {
   "cell_type": "code",
   "execution_count": 30,
   "metadata": {},
   "outputs": [
    {
     "data": {
      "image/png": "[encoded data removed]",
      "text/plain": [
       "<Figure size 640x480 with 1 Axes>"
      ]
     },
     "metadata": {},
     "output_type": "display_data"
    }
   ],
   "source": [
    "# Accuracy Function\n",
    "\n",
    "if not cross_validation:\n",
    "    plt.plot(history.history['accuracy'], label='Training Accuracy')\n",
    "    plt.plot(history.history['val_accuracy'], label='Validation Accuracy')\n",
    "    plt.title('Training and Validation Accuracy')\n",
    "    plt.xlabel('Epoch')\n",
    "    plt.ylabel('Accuracy')\n",
    "    plt.legend()\n",
    "    plt.show()\n",
    "\n",
    "if cross_validation:\n",
    "    plt.plot(sum(accuracy)/len(accuracy), label='Average Training Accuracy')\n",
    "    plt.plot(sum(val_accuracy)/len(val_accuracy), label='Average Validation Accuracy')\n",
    "    plt.title('Average Training and Validation Accuracy')\n",
    "    plt.xlabel('Epoch')\n",
    "    plt.ylabel('Accuracy')\n",
    "    plt.legend()\n",
    "    plt.show()"
   ]
  },
  {
   "cell_type": "code",
   "execution_count": 31,
   "metadata": {},
   "outputs": [
    {
     "name": "stderr",
     "output_type": "stream",
     "text": [
      "C:\\Users\\anany\\AppData\\Local\\Temp\\ipykernel_22588\\1971521336.py:12: UserWarning: FixedFormatter should only be used together with FixedLocator\n",
      "  ax.set_xticklabels(labels, rotation = 45, ha = \"right\")\n",
      "C:\\Users\\anany\\AppData\\Local\\Temp\\ipykernel_22588\\1971521336.py:13: UserWarning: FixedFormatter should only be used together with FixedLocator\n",
      "  ax.set_yticklabels(labels)\n"
     ]
    },
    {
     "data": {
      "image/png": "[encoded data removed]",
      "text/plain": [
       "<Figure size 640x480 with 1 Axes>"
      ]
     },
     "metadata": {},
     "output_type": "display_data"
    }
   ],
   "source": [
    "# Validation Clip Confusion Matrix\n",
    "\n",
    "if cross_validation:\n",
    "\n",
    "    fig, ax = plt.subplots()\n",
    "    ax.imshow(norm_val_clip_confusion, cmap = \"gray_r\")\n",
    "\n",
    "    labels = [item.get_text() for item in ax.get_yticklabels()]\n",
    "    for i in range(1, len(labels) - 1):\n",
    "        labels[i] = genre_list[i - 1]\n",
    "\n",
    "    ax.set_xticklabels(labels, rotation = 45, ha = \"right\")\n",
    "    ax.set_yticklabels(labels)\n",
    "\n",
    "    ax.set_xlabel(\"Actual class\")\n",
    "    ax.set_ylabel(\"Predicted class\")\n",
    "    ax.set_title(\"Validation Clip Confusion Matrix\")\n",
    "\n",
    "    plt.show()"
   ]
  },
  {
   "cell_type": "code",
   "execution_count": 32,
   "metadata": {},
   "outputs": [
    {
     "name": "stderr",
     "output_type": "stream",
     "text": [
      "C:\\Users\\anany\\AppData\\Local\\Temp\\ipykernel_22588\\4017982822.py:10: UserWarning: FixedFormatter should only be used together with FixedLocator\n",
      "  ax.set_xticklabels(labels, rotation = 45, ha = \"right\")\n",
      "C:\\Users\\anany\\AppData\\Local\\Temp\\ipykernel_22588\\4017982822.py:11: UserWarning: FixedFormatter should only be used together with FixedLocator\n",
      "  ax.set_yticklabels(labels)\n"
     ]
    },
    {
     "data": {
      "image/png": "[encoded data removed]",
      "text/plain": [
       "<Figure size 640x480 with 1 Axes>"
      ]
     },
     "metadata": {},
     "output_type": "display_data"
    }
   ],
   "source": [
    "# Test Clip Confusion Matrix\n",
    "\n",
    "fig, ax = plt.subplots()\n",
    "ax.imshow(norm_test_clip_confusion, cmap = \"gray_r\")\n",
    "\n",
    "labels = [item.get_text() for item in ax.get_yticklabels()]\n",
    "for i in range(1, len(labels) - 1):\n",
    "    labels[i] = genre_list[i - 1]\n",
    "\n",
    "ax.set_xticklabels(labels, rotation = 45, ha = \"right\")\n",
    "ax.set_yticklabels(labels)\n",
    "\n",
    "ax.set_xlabel(\"Actual class\")\n",
    "ax.set_ylabel(\"Predicted class\")\n",
    "ax.set_title(\"Test Clip Confusion Matrix\")\n",
    "\n",
    "plt.show()"
   ]
  },
  {
   "cell_type": "code",
   "execution_count": 33,
   "metadata": {},
   "outputs": [
    {
     "name": "stdout",
     "output_type": "stream",
     "text": [
      "[[0.16666667 0.15833333 0.                nan 0.19333333]\n",
      " [0.33333333 0.4        0.4               nan 0.35333333]\n",
      " [0.         0.00833333 0.                nan 0.        ]\n",
      " [0.2        0.15       0.2               nan 0.16666667]\n",
      " [0.3        0.28333333 0.4               nan 0.28666667]]\n"
     ]
    }
   ],
   "source": [
    "print(norm_test_clip_confusion)"
   ]
  },
  {
   "cell_type": "code",
   "execution_count": null,
   "metadata": {},
   "outputs": [],
   "source": [
    "get_confusion_matrix()"
   ]
  },
  {
   "cell_type": "code",
   "execution_count": 34,
   "metadata": {},
   "outputs": [
    {
     "name": "stdout",
     "output_type": "stream",
     "text": [
      "[[10. 19.  0.  0. 29.]\n",
      " [20. 48. 16.  0. 53.]\n",
      " [ 0.  1.  0.  0.  0.]\n",
      " [12. 18.  8.  0. 25.]\n",
      " [18. 34. 16.  0. 43.]]\n"
     ]
    }
   ],
   "source": [
    "print(test_clip_confusion)"
   ]
  },
  {
   "cell_type": "code",
   "execution_count": 35,
   "metadata": {},
   "outputs": [
    {
     "name": "stdout",
     "output_type": "stream",
     "text": [
      "[[0.18333333 0.26785714 0.04411765 0.109375   0.30769231]\n",
      " [0.51666667 0.25       0.36764706 0.125      0.44230769]\n",
      " [0.         0.         0.         0.015625   0.07692308]\n",
      " [0.15       0.19642857 0.16176471 0.1875     0.05769231]\n",
      " [0.15       0.28571429 0.42647059 0.5625     0.11538462]]\n"
     ]
    }
   ],
   "source": [
    "if cross_validation:\n",
    "    print(norm_val_clip_confusion)"
   ]
  },
  {
   "cell_type": "code",
   "execution_count": 36,
   "metadata": {},
   "outputs": [
    {
     "name": "stdout",
     "output_type": "stream",
     "text": [
      "[[11. 15.  3.  7. 16.]\n",
      " [31. 14. 25.  8. 23.]\n",
      " [ 0.  0.  0.  1.  4.]\n",
      " [ 9. 11. 11. 12.  3.]\n",
      " [ 9. 16. 29. 36.  6.]]\n"
     ]
    }
   ],
   "source": [
    "if cross_validation:\n",
    "    print(val_clip_confusion)"
   ]
  },
  {
   "cell_type": "code",
   "execution_count": 37,
   "metadata": {},
   "outputs": [],
   "source": [
    "'''def play(id):\n",
    "    info = id.split('_')\n",
    "    song_id = info[0]\n",
    "    channel = int(info[1][-1])\n",
    "    start_time = info[2]\n",
    "    end_time = info[3]\n",
    "\n",
    "    filepath = audio_dict[song_id]\n",
    "    y, sr = librosa.load(filepath)\n",
    "\n",
    "    audio_segment = y[int(float(start_time) * sr) : int(float(end_time) * sr)]\n",
    "\n",
    "    return Audio(audio_segment, rate = sr)'''"
   ]
  },
  {
   "cell_type": "code",
   "execution_count": 38,
   "metadata": {},
   "outputs": [],
   "source": [
    "'''def classified_as(id_list, pred_classes, actual_classes, pred_class, actual_class):\n",
    "    output = []\n",
    "    for i in range(len(id_list)):\n",
    "        id = id_list[i]\n",
    "        pred = pred_classes[i]\n",
    "        actual = actual_classes[i]\n",
    "        if (pred == pred_class):\n",
    "            if (actual == actual_class):\n",
    "                output.append(id)\n",
    "    \n",
    "    return output  '''"
   ]
  },
  {
   "cell_type": "code",
   "execution_count": 39,
   "metadata": {},
   "outputs": [
    {
     "name": "stdout",
     "output_type": "stream",
     "text": [
      "No such clips.\n"
     ]
    }
   ],
   "source": [
    "c = classified_as(test_clip_ids, test_clip_pred_classes, test_clip_actual_classes, 0, 0)\n",
    "\n",
    "if (len(c) != 0):\n",
    "    example = random.randint(0, len(c) - 1)\n",
    "    print(c[example])\n",
    "    print(audio_dict[c[example][:4]])\n",
    "    display(play(c[example]))\n",
    "else:\n",
    "    print(\"No such clips.\")"
   ]
  },
  {
   "cell_type": "markdown",
   "metadata": {},
   "source": [
    "# ANALYSIS"
   ]
  },
  {
   "attachments": {},
   "cell_type": "markdown",
   "metadata": {},
   "source": [
    "PLOTS"
   ]
  },
  {
   "cell_type": "code",
   "execution_count": 40,
   "metadata": {},
   "outputs": [],
   "source": [
    "'''def get_song_votes(song_ids, clip_ids, clip_vote_array):\n",
    "    song_vote_array = np.zeros((len(song_ids), len(clip_vote_array[0])))\n",
    "    for i in range(len(clip_ids)):\n",
    "        clip_id = clip_ids[i]\n",
    "        song_id = clip_id.split('_')[0]\n",
    "        index = song_ids.index(song_id)\n",
    "        song_vote_array[index] = song_vote_array[index] + clip_vote_array[i]\n",
    "    \n",
    "    return song_vote_array'''"
   ]
  },
  {
   "cell_type": "code",
   "execution_count": 41,
   "metadata": {},
   "outputs": [
    {
     "name": "stderr",
     "output_type": "stream",
     "text": [
      "C:\\Users\\anany\\AppData\\Local\\Temp\\ipykernel_22588\\2317508874.py:13: RuntimeWarning: invalid value encountered in divide\n",
      "  norm_val_song_confusion[:, i] = val_song_confusion[:, i]/sum(val_song_confusion[:, i])\n",
      "C:\\Users\\anany\\AppData\\Local\\Temp\\ipykernel_22588\\2317508874.py:27: RuntimeWarning: invalid value encountered in divide\n",
      "  norm_test_song_confusion[:, i] = test_song_confusion[:, i]/sum(test_song_confusion[:, i])\n"
     ]
    }
   ],
   "source": [
    "if cross_validation:\n",
    "    val_song_vote_array = get_song_votes(val_song_ids, val_clip_ids, val_clip_vote_array)\n",
    "    val_song_pred_classes = val_song_vote_array.argmax(axis=1)\n",
    "    val_song_actual_classes = get_labels(val_song_ids, label_list)\n",
    "    val_song_confusion = np.zeros((len(label_list), len(label_list)))\n",
    "\n",
    "    for i in range(len(val_song_pred_classes)):\n",
    "        val_song_confusion[val_song_pred_classes[i]][val_song_actual_classes[i]] += 1\n",
    "    \n",
    "    norm_val_song_confusion = np.zeros((len(label_list), len(label_list)))\n",
    "\n",
    "    for i in range(len(label_list)):\n",
    "        norm_val_song_confusion[:, i] = val_song_confusion[:, i]/sum(val_song_confusion[:, i])\n",
    "\n",
    "\n",
    "test_song_vote_array = get_song_votes(test_song_ids, test_clip_ids, test_clip_vote_array)\n",
    "test_song_pred_classes = test_song_vote_array.argmax(axis=1)\n",
    "test_song_actual_classes = get_labels(test_song_ids, label_list)\n",
    "test_song_confusion = np.zeros((len(label_list), len(label_list)))\n",
    "\n",
    "for i in range(len(test_song_pred_classes)):\n",
    "    test_song_confusion[test_song_pred_classes[i]][test_song_actual_classes[i]] += 1\n",
    "\n",
    "norm_test_song_confusion = np.zeros((len(label_list), len(label_list)))\n",
    "\n",
    "for i in range(len(label_list)):\n",
    "    norm_test_song_confusion[:, i] = test_song_confusion[:, i]/sum(test_song_confusion[:, i])\n"
   ]
  },
  {
   "cell_type": "code",
   "execution_count": 42,
   "metadata": {},
   "outputs": [
    {
     "data": {
      "text/plain": [
       "array([4, 4, 4, 4, 4, 4, 4, 4, 4, 4, 3, 3, 4, 4, 3, 3, 4, 4, 4, 4, 4, 4,\n",
       "       4, 4, 4, 4, 4, 4, 4, 4, 4, 4, 4, 4, 4, 4, 4, 4, 4, 4, 4, 4, 4, 4,\n",
       "       4, 4, 4, 4, 4, 4, 4, 4, 4, 4, 4, 4, 4, 4, 4, 4, 4, 4, 1, 1, 1, 1,\n",
       "       1, 1, 1, 1, 1, 1, 1, 1, 1, 1, 1, 1, 1, 1, 1, 1, 1, 1, 1, 1, 1, 1,\n",
       "       1, 1, 1, 1, 1, 1, 1, 1, 1, 1, 1, 1, 1, 1, 1, 1, 1, 1, 1, 1, 1, 1,\n",
       "       1, 1, 1, 1, 1, 1, 1, 1, 1, 1, 1, 1, 0, 0, 0, 3, 0, 0, 0, 3, 0, 0,\n",
       "       0, 0, 3, 0, 0, 0, 0, 0, 0, 0, 0, 0, 3, 0, 0, 2, 3, 0, 0, 2, 0, 0,\n",
       "       0, 0, 0, 0, 0, 0, 2, 0, 2, 0, 2, 0, 0, 0, 0, 3, 0, 0, 0, 3, 0, 0,\n",
       "       3, 3, 0, 0, 3, 3, 3, 3, 3, 3, 3, 3, 3, 3, 4, 3, 4, 3, 4, 3, 4, 3,\n",
       "       3, 4, 4, 4, 3, 4, 4, 4, 3, 3, 3, 3, 3, 3, 3, 3, 3, 4, 3, 3, 3, 4,\n",
       "       3, 3, 4, 4, 4, 4, 4, 4, 4, 4, 3, 4, 4, 4, 4, 4, 4, 4, 4, 4, 3, 4,\n",
       "       4, 4, 3, 4, 0, 0, 1, 1, 1, 1, 0, 1, 1, 1, 0, 1, 1, 1, 1, 1, 1, 1,\n",
       "       1, 1, 1, 1, 0, 1, 1, 1, 0, 1, 1, 1, 1, 1, 1, 1, 1, 1, 1, 1, 1, 1,\n",
       "       1, 1, 1, 1, 1, 1, 4, 4, 0, 4, 4, 4, 0, 1], dtype=int64)"
      ]
     },
     "execution_count": 42,
     "metadata": {},
     "output_type": "execute_result"
    }
   ],
   "source": [
    "val_clip_vote_array.argmax(axis=1)"
   ]
  },
  {
   "cell_type": "code",
   "execution_count": 43,
   "metadata": {},
   "outputs": [
    {
     "data": {
      "text/plain": [
       "array([[1],\n",
       "       [0],\n",
       "       [4],\n",
       "       [1],\n",
       "       [4],\n",
       "       [2],\n",
       "       [4],\n",
       "       [0],\n",
       "       [1],\n",
       "       [4]])"
      ]
     },
     "execution_count": 43,
     "metadata": {},
     "output_type": "execute_result"
    }
   ],
   "source": [
    "test_song_actual_classes"
   ]
  },
  {
   "cell_type": "code",
   "execution_count": 44,
   "metadata": {},
   "outputs": [
    {
     "data": {
      "text/plain": [
       "array([[1., 2., 0., 1., 1.],\n",
       "       [1., 2., 0., 1., 1.],\n",
       "       [1., 2., 0., 1., 1.],\n",
       "       [1., 2., 0., 1., 1.],\n",
       "       [1., 2., 0., 1., 1.],\n",
       "       [1., 2., 0., 1., 1.],\n",
       "       [1., 2., 0., 1., 1.],\n",
       "       [1., 2., 0., 1., 1.],\n",
       "       [1., 1., 0., 1., 2.],\n",
       "       [1., 2., 0., 1., 1.],\n",
       "       [0., 2., 0., 2., 1.],\n",
       "       [1., 1., 0., 1., 2.],\n",
       "       [1., 2., 0., 1., 1.],\n",
       "       [0., 2., 0., 2., 1.],\n",
       "       [1., 1., 0., 1., 2.],\n",
       "       [1., 2., 0., 0., 2.],\n",
       "       [1., 2., 0., 0., 2.],\n",
       "       [1., 2., 0., 0., 2.],\n",
       "       [1., 2., 0., 1., 1.],\n",
       "       [0., 2., 0., 1., 2.],\n",
       "       [1., 2., 0., 0., 2.],\n",
       "       [1., 2., 0., 0., 2.],\n",
       "       [0., 2., 1., 0., 2.],\n",
       "       [1., 2., 0., 0., 2.],\n",
       "       [1., 2., 0., 0., 2.],\n",
       "       [1., 2., 0., 1., 1.],\n",
       "       [1., 2., 0., 0., 2.],\n",
       "       [1., 2., 0., 0., 2.],\n",
       "       [1., 2., 0., 0., 2.],\n",
       "       [1., 2., 0., 1., 1.],\n",
       "       [1., 2., 0., 1., 1.],\n",
       "       [1., 2., 0., 1., 1.],\n",
       "       [1., 2., 0., 1., 1.],\n",
       "       [1., 2., 0., 1., 1.],\n",
       "       [1., 2., 0., 1., 1.],\n",
       "       [1., 2., 0., 1., 1.],\n",
       "       [1., 2., 0., 0., 2.],\n",
       "       [1., 2., 0., 0., 2.],\n",
       "       [0., 2., 0., 1., 2.],\n",
       "       [0., 2., 0., 1., 2.],\n",
       "       [0., 2., 0., 1., 2.],\n",
       "       [0., 2., 0., 1., 2.],\n",
       "       [0., 2., 0., 1., 2.],\n",
       "       [0., 2., 0., 1., 2.],\n",
       "       [0., 2., 0., 1., 2.],\n",
       "       [0., 2., 0., 1., 2.],\n",
       "       [2., 1., 0., 1., 1.],\n",
       "       [1., 2., 0., 1., 1.],\n",
       "       [1., 2., 0., 1., 1.],\n",
       "       [1., 2., 0., 1., 1.],\n",
       "       [2., 1., 0., 1., 1.],\n",
       "       [1., 2., 0., 1., 1.],\n",
       "       [1., 2., 0., 1., 1.],\n",
       "       [1., 2., 0., 1., 1.],\n",
       "       [1., 1., 0., 1., 2.],\n",
       "       [1., 2., 0., 0., 2.],\n",
       "       [1., 2., 0., 1., 1.],\n",
       "       [1., 1., 0., 1., 2.],\n",
       "       [1., 2., 0., 0., 2.],\n",
       "       [1., 2., 0., 1., 1.],\n",
       "       [0., 2., 0., 2., 1.],\n",
       "       [1., 2., 0., 1., 1.],\n",
       "       [0., 2., 0., 1., 2.],\n",
       "       [1., 2., 0., 0., 2.],\n",
       "       [0., 2., 0., 2., 1.],\n",
       "       [1., 2., 0., 1., 1.],\n",
       "       [0., 2., 0., 1., 2.],\n",
       "       [1., 2., 0., 0., 2.],\n",
       "       [1., 1., 0., 2., 1.],\n",
       "       [0., 1., 0., 2., 2.],\n",
       "       [1., 2., 0., 0., 2.],\n",
       "       [1., 1., 0., 2., 1.],\n",
       "       [0., 1., 0., 2., 2.],\n",
       "       [1., 2., 0., 0., 2.]])"
      ]
     },
     "execution_count": 44,
     "metadata": {},
     "output_type": "execute_result"
    }
   ],
   "source": [
    "test_clip_vote_array"
   ]
  },
  {
   "cell_type": "code",
   "execution_count": 45,
   "metadata": {},
   "outputs": [
    {
     "data": {
      "text/plain": [
       "array([[ 8., 16.,  0.,  8.,  8.],\n",
       "       [ 4., 10.,  0.,  8.,  8.],\n",
       "       [ 7., 15.,  0.,  3., 15.],\n",
       "       [ 7., 16.,  1.,  2., 14.],\n",
       "       [ 8., 16.,  0.,  6., 10.],\n",
       "       [ 0., 16.,  0.,  8., 16.],\n",
       "       [10., 14.,  0.,  8.,  8.],\n",
       "       [ 6., 10.,  0.,  4., 10.],\n",
       "       [ 4., 16.,  0.,  8., 12.],\n",
       "       [ 4.,  8.,  0.,  8., 10.]])"
      ]
     },
     "execution_count": 45,
     "metadata": {},
     "output_type": "execute_result"
    }
   ],
   "source": [
    "get_song_votes(test_song_ids, test_clip_ids, test_clip_vote_array)"
   ]
  },
  {
   "cell_type": "code",
   "execution_count": null,
   "metadata": {},
   "outputs": [],
   "source": []
  },
  {
   "cell_type": "code",
   "execution_count": 46,
   "metadata": {},
   "outputs": [
    {
     "name": "stderr",
     "output_type": "stream",
     "text": [
      "C:\\Users\\anany\\AppData\\Local\\Temp\\ipykernel_22588\\3365749478.py:11: UserWarning: FixedFormatter should only be used together with FixedLocator\n",
      "  ax.set_xticklabels(labels, rotation = 45, ha = \"right\")\n",
      "C:\\Users\\anany\\AppData\\Local\\Temp\\ipykernel_22588\\3365749478.py:12: UserWarning: FixedFormatter should only be used together with FixedLocator\n",
      "  ax.set_yticklabels(labels)\n"
     ]
    },
    {
     "data": {
      "image/png": "[encoded data removed]",
      "text/plain": [
       "<Figure size 640x480 with 1 Axes>"
      ]
     },
     "metadata": {},
     "output_type": "display_data"
    }
   ],
   "source": [
    "# Validation Song Confusion Matrix\n",
    "\n",
    "if cross_validation:\n",
    "    fig, ax = plt.subplots()\n",
    "    ax.imshow(norm_val_song_confusion, cmap = \"gray_r\")\n",
    "\n",
    "    labels = [item.get_text() for item in ax.get_yticklabels()]\n",
    "    for i in range(1, len(labels) - 1):\n",
    "        labels[i] = genre_list[i - 1]\n",
    "\n",
    "    ax.set_xticklabels(labels, rotation = 45, ha = \"right\")\n",
    "    ax.set_yticklabels(labels)\n",
    "\n",
    "    ax.set_xlabel(\"Actual class\")\n",
    "    ax.set_ylabel(\"Predicted class\")\n",
    "    ax.set_title(\"Validation Song Confusion Matrix\")\n",
    "\n",
    "    plt.show()"
   ]
  },
  {
   "cell_type": "code",
   "execution_count": 47,
   "metadata": {},
   "outputs": [
    {
     "name": "stderr",
     "output_type": "stream",
     "text": [
      "C:\\Users\\anany\\AppData\\Local\\Temp\\ipykernel_22588\\3690557277.py:10: UserWarning: FixedFormatter should only be used together with FixedLocator\n",
      "  ax.set_xticklabels(labels, rotation = 45, ha = \"right\")\n",
      "C:\\Users\\anany\\AppData\\Local\\Temp\\ipykernel_22588\\3690557277.py:11: UserWarning: FixedFormatter should only be used together with FixedLocator\n",
      "  ax.set_yticklabels(labels)\n"
     ]
    },
    {
     "data": {
      "image/png": "[encoded data removed]",
      "text/plain": [
       "<Figure size 640x480 with 1 Axes>"
      ]
     },
     "metadata": {},
     "output_type": "display_data"
    }
   ],
   "source": [
    "# Test Song Confusion Matrix\n",
    "\n",
    "fig, ax = plt.subplots()\n",
    "ax.imshow(norm_test_song_confusion, cmap = \"gray_r\")\n",
    "\n",
    "labels = [item.get_text() for item in ax.get_yticklabels()]\n",
    "for i in range(1, len(labels) - 1):\n",
    "    labels[i] = genre_list[i - 1]\n",
    "\n",
    "ax.set_xticklabels(labels, rotation = 45, ha = \"right\")\n",
    "ax.set_yticklabels(labels)\n",
    "\n",
    "ax.set_xlabel(\"Actual class\")\n",
    "ax.set_ylabel(\"Predicted class\")\n",
    "ax.set_title(\"Test Song Confusion Matrix\")\n",
    "\n",
    "plt.show()"
   ]
  },
  {
   "cell_type": "code",
   "execution_count": 48,
   "metadata": {},
   "outputs": [
    {
     "data": {
      "text/plain": [
       "array([[0., 0., 0., 0., 0.],\n",
       "       [2., 3., 1., 0., 3.],\n",
       "       [0., 0., 0., 0., 0.],\n",
       "       [0., 0., 0., 0., 0.],\n",
       "       [0., 0., 0., 0., 1.]])"
      ]
     },
     "execution_count": 48,
     "metadata": {},
     "output_type": "execute_result"
    }
   ],
   "source": [
    "test_song_confusion"
   ]
  },
  {
   "cell_type": "code",
   "execution_count": 49,
   "metadata": {},
   "outputs": [
    {
     "data": {
      "text/plain": [
       "array([[10., 19.,  0.,  0., 29.],\n",
       "       [20., 48., 16.,  0., 53.],\n",
       "       [ 0.,  1.,  0.,  0.,  0.],\n",
       "       [12., 18.,  8.,  0., 25.],\n",
       "       [18., 34., 16.,  0., 43.]])"
      ]
     },
     "execution_count": 49,
     "metadata": {},
     "output_type": "execute_result"
    }
   ],
   "source": [
    "get_confusion_matrix(test_song_ids, test_song_vote_array, label_list)"
   ]
  },
  {
   "cell_type": "code",
   "execution_count": null,
   "metadata": {},
   "outputs": [],
   "source": [
    "# SONG CONFUSION MATRIX"
   ]
  },
  {
   "cell_type": "markdown",
   "metadata": {},
   "source": [
    "# ~~~~~~~~~~~~~~"
   ]
  },
  {
   "cell_type": "code",
   "execution_count": null,
   "metadata": {},
   "outputs": [],
   "source": [
    "clip_vote_dict = {}\n",
    "song_clip_dict = {}"
   ]
  },
  {
   "cell_type": "code",
   "execution_count": null,
   "metadata": {},
   "outputs": [],
   "source": [
    "for id in list(audio_dict.keys()):\n",
    "    # np.where(np.char.find(test_ids, 'r009') >= 0) ids where 'r009' appears in the string\n",
    "    if id in test_set:\n",
    "        song_clip_dict[id] = test_ids[np.where(np.char.find(test_ids, id) >= 0)]\n",
    "    else:\n",
    "        #song_clip_dict[id] = train_ids[np.where(np.char.find(train_ids, id) >= 0)]\n",
    "        pass"
   ]
  },
  {
   "cell_type": "code",
   "execution_count": null,
   "metadata": {},
   "outputs": [],
   "source": [
    "y_pred_class_onehot = np.eye(len(genre_id.keys()))[y_pred_classes]"
   ]
  },
  {
   "cell_type": "code",
   "execution_count": null,
   "metadata": {},
   "outputs": [],
   "source": [
    "for i in range(len(test_ids)):\n",
    "    id = test_ids[i]\n",
    "    if id not in clip_vote_dict.keys():\n",
    "        clip_vote_dict[id] = np.zeros(len(genre_id.keys()))\n",
    "    clip_vote_dict[id] = clip_vote_dict[id] + y_pred_class_onehot[i]\n",
    "    "
   ]
  },
  {
   "cell_type": "code",
   "execution_count": null,
   "metadata": {},
   "outputs": [],
   "source": [
    "song_vote_dict = {}"
   ]
  },
  {
   "cell_type": "code",
   "execution_count": null,
   "metadata": {},
   "outputs": [],
   "source": [
    "for song_id in test_set:\n",
    "    song_vote_dict[song_id] = np.zeros(len(genre_id.keys()))\n",
    "    for clip_id in song_clip_dict[song_id]:\n",
    "        song_vote_dict[song_id] = song_vote_dict[song_id] + clip_vote_dict[clip_id]"
   ]
  },
  {
   "cell_type": "code",
   "execution_count": null,
   "metadata": {},
   "outputs": [],
   "source": [
    "for id in song_vote_dict:\n",
    "    print(\"id: {0} pred {1} actual {2}   votes {3}\".format(id, label_list[(np.argmax(song_vote_dict[id]))], id[0], song_vote_dict[id]))"
   ]
  },
  {
   "cell_type": "code",
   "execution_count": null,
   "metadata": {},
   "outputs": [],
   "source": [
    "song_confusion = np.zeros((len(label_list), len(label_list)))\n",
    "\n",
    "for id in song_vote_dict:\n",
    "    prediction = np.argmax(song_vote_dict[id])\n",
    "    actual = label_list.index(id[0])\n",
    "    song_confusion[prediction][actual] += 1\n",
    "\n",
    "for i in range(len(label_list)):\n",
    "    if sum(song_confusion[:, i]) >= 0:\n",
    "        song_confusion[:, i] = song_confusion[:, i]/sum(song_confusion[:, i])"
   ]
  },
  {
   "cell_type": "code",
   "execution_count": null,
   "metadata": {},
   "outputs": [],
   "source": [
    "fig, ax = plt.subplots()\n",
    "ax.imshow(song_confusion, cmap = \"gray_r\")\n",
    "\n",
    "labels = [item.get_text() for item in ax.get_yticklabels()]\n",
    "for i in range(1, len(labels) - 1):\n",
    "    labels[i] = genre_list[i - 1]\n",
    "\n",
    "ax.set_xticklabels(labels, rotation = 45, ha = \"right\")\n",
    "ax.set_yticklabels(labels)\n",
    "\n",
    "ax.set_xlabel(\"Actual class\")\n",
    "ax.set_ylabel(\"Predicted class\")\n",
    "ax.set_title(\"Song Classification Matrix\")"
   ]
  },
  {
   "cell_type": "code",
   "execution_count": null,
   "metadata": {},
   "outputs": [],
   "source": [
    "def song_classifications(labels, prob_array):\n",
    "    # TODO: get probability distributions for a song\n",
    "    pass\n",
    "    # label list genre list whatever whatever\n",
    "    # do the argmax thing\n",
    "    # output probdis = numpy array of size of genres\n",
    "    # for each:\n",
    "        # vote\n",
    "    # divide by number of samples - maybe dont do this so you can add these for several runss\n",
    "\n",
    "\n",
    "# agrmax output of this to get "
   ]
  },
  {
   "cell_type": "markdown",
   "metadata": {},
   "source": [
    "# WITH PYTORCH"
   ]
  },
  {
   "cell_type": "code",
   "execution_count": null,
   "metadata": {},
   "outputs": [],
   "source": [
    "import torch\n",
    "print(torch.cuda.is_available())\n",
    "print(torch.cuda.current_device())\n",
    "print(torch.cuda.device(0))\n",
    "print(torch.cuda.get_device_name(0))"
   ]
  },
  {
   "cell_type": "markdown",
   "metadata": {},
   "source": [
    "# MY CNN"
   ]
  },
  {
   "cell_type": "code",
   "execution_count": null,
   "metadata": {},
   "outputs": [],
   "source": [
    "from cnn.activation import Tanh, Sigmoid, ReLU\n",
    "from cnn.convolutional import Convolutional\n",
    "from cnn.dense import Dense\n",
    "from cnn.loss import MSE, MSE_prime, binary_cross_entropy, binary_cross_entropy_prime\n",
    "from cnn.nn import MNIST\n",
    "from cnn.reshape import Reshape"
   ]
  },
  {
   "cell_type": "code",
   "execution_count": null,
   "metadata": {},
   "outputs": [],
   "source": [
    "from keras.utils import np_utils\n"
   ]
  },
  {
   "cell_type": "code",
   "execution_count": null,
   "metadata": {},
   "outputs": [],
   "source": [
    "t1 = np.array([[0, 0], [1, 1], [2, 2], [3, 3]])\n",
    "t2 = np.array([0, 1, 2, 3])\n",
    "\n",
    "indices = random.sample(range(len(t1)), len(t1))\n",
    "\n",
    "t1 = t1[indices]\n",
    "t2 = t2[indices]\n",
    "\n",
    "print(t1)\n",
    "print(t2)"
   ]
  },
  {
   "cell_type": "code",
   "execution_count": null,
   "metadata": {},
   "outputs": [],
   "source": [
    "def preprocess_data(x, y, limit):\n",
    "    #zero_index = np.where(y == 0)[0][:limit]\n",
    "    #one_index = np.where(y == 1)[0][:limit]\n",
    "    \n",
    "\n",
    "    #all_indices = np.random.permutation(np.hstack((zero_index, one_index)))\n",
    "\n",
    "    #x, y = x[all_indices], y[all_indices]\n",
    "\n",
    "    #x = (x.reshape(len(x), 1, 28, 28)).astype(\"float32\") / 255\n",
    "\n",
    "    #y = np_utils.to_categorical(y)\n",
    "    #y = y.reshape(len(y), 2, 1)\n",
    "\n",
    "    return x, y"
   ]
  },
  {
   "cell_type": "code",
   "execution_count": null,
   "metadata": {},
   "outputs": [],
   "source": [
    "y_train.reshape(len(y_train), 2, 1).shape"
   ]
  },
  {
   "cell_type": "code",
   "execution_count": null,
   "metadata": {},
   "outputs": [],
   "source": [
    "x_train = x_train.reshape(len(x_train), 1, resize_dim, resize_dim)\n",
    "x_test = x_test.reshape(len(x_test), 1, resize_dim, resize_dim)\n",
    "\n"
   ]
  },
  {
   "cell_type": "code",
   "execution_count": null,
   "metadata": {},
   "outputs": [],
   "source": [
    "y_train = np_utils.to_categorical(y_train)\n",
    "y_train = y_train.reshape(len(y_train), len(y_train[0]), 1)\n",
    "y_test = np_utils.to_categorical(y_test)\n",
    "y_test = y_test.reshape(len(y_test), len(y_test[0]), 1)"
   ]
  },
  {
   "cell_type": "code",
   "execution_count": null,
   "metadata": {},
   "outputs": [],
   "source": [
    "\n",
    "train_indices = random.sample(range(len(x_train)), len(x_train))\n",
    "test_indices = random.sample(range(len(x_test)), len(x_test))\n",
    "\n",
    "x_train = x_train[train_indices]\n",
    "y_train = y_train[train_indices]\n",
    "\n",
    "x_test = x_test[test_indices]\n",
    "y_test = y_test[test_indices]"
   ]
  },
  {
   "cell_type": "code",
   "execution_count": null,
   "metadata": {},
   "outputs": [],
   "source": [
    "t1 = [[0, 0], [1, 1], [2, 2]]\n",
    "t2 = [0, 1, 2]\n",
    "\n",
    "zip(t1, t2)"
   ]
  },
  {
   "cell_type": "code",
   "execution_count": null,
   "metadata": {},
   "outputs": [],
   "source": [
    "network = [\n",
    "    Convolutional((1, resize_dim, resize_dim), 3, 5),\n",
    "    Sigmoid(),\n",
    "    Reshape((5, resize_dim - 2, resize_dim - 2), (5 * (resize_dim - 2) * (resize_dim - 2), 1)),\n",
    "    Dense(5*(resize_dim - 2)*(resize_dim - 2), 100),\n",
    "    Sigmoid(),\n",
    "    Dense(100, 5),\n",
    "    Sigmoid()\n",
    "]"
   ]
  },
  {
   "cell_type": "code",
   "execution_count": null,
   "metadata": {},
   "outputs": [],
   "source": [
    "from cnn.pooling import MaxPooling\n",
    "# TODO: test forward"
   ]
  },
  {
   "cell_type": "code",
   "execution_count": null,
   "metadata": {},
   "outputs": [],
   "source": [
    "arr = np.random.randint(20, size=(4, 4))\n",
    "\n",
    "pool_shape = (2, 2)\n",
    "\n",
    "output = np.zeros((int(arr.shape[0]/pool_shape[0]), int(arr.shape[1]/pool_shape[1])))\n",
    "\n",
    "i, j = 0, 0\n",
    "\n",
    "for i in range(output.shape[0]):\n",
    "    for j in range(output.shape[1]):\n",
    "        temp = np.max(arr[i*pool_shape[0]:(i+1)*pool_shape[0], j*pool_shape[1]:j*pool_shape[1]+2])\n",
    "        output[i][j] = temp#np.max(arr[i*pool_shape[0]:(i+1)*pool_shape[0]][j*pool_shape[1]:(j+1)*pool_shape[1]])\n",
    "\n",
    "print(arr)\n",
    "print(output)"
   ]
  },
  {
   "cell_type": "code",
   "execution_count": null,
   "metadata": {},
   "outputs": [],
   "source": [
    "\n",
    "epochs = 10\n",
    "learning_rate = 0.01\n",
    "\n",
    "for e in range(epochs):\n",
    "    error = 0\n",
    "\n",
    "    temp = zip(x_train, y_train)\n",
    "    for x, y in zip(x_train, y_train):\n",
    "        output = x\n",
    "        for layer in network:\n",
    "            output = layer.forward(output)\n",
    "        \n",
    "        error += MSE(y, output)\n",
    "\n",
    "        grad = MSE_prime(y, output)\n",
    "        for layer in reversed(network):\n",
    "            grad = layer.backward(grad, learning_rate)\n",
    "    \n",
    "    error /= len(x_train)\n",
    "    print(f\"{e + 1}/{epochs}, error = {error}\")\n",
    "\n",
    "\n",
    "    correct = 0\n",
    "    total = 0\n",
    "\n",
    "    for x, y in zip(x_test, y_test):\n",
    "        output = x\n",
    "        for layer in network:\n",
    "            output = layer.forward(output)\n",
    "        print(f\"     pred: {np.argmax(output)}, true: {np.argmax(y)}\")\n",
    "        total += 1\n",
    "        if np.argmax(output) == np.argmax(y):\n",
    "            correct += 1\n",
    "    print(f\"correct: {correct}, total: {total}\\n\\n\")\n",
    "\n",
    "\n",
    "correct = 0\n",
    "total = 0\n",
    "\n",
    "for x, y in zip(x_test, y_test):\n",
    "    output = x\n",
    "    for layer in network:\n",
    "        output = layer.forward(output)\n",
    "    print(f\"pred: {np.argmax(output)}, true: {np.argmax(y)}\")\n",
    "    total += 1\n",
    "    if np.argmax(output) == np.argmax(y):\n",
    "        correct += 1\n",
    "print(f\"correct: {correct}, total: {total}\")"
   ]
  },
  {
   "cell_type": "code",
   "execution_count": null,
   "metadata": {},
   "outputs": [],
   "source": [
    "audio_folderpath = \"C:/Users/anany/Cambridge/Part II Project/data/raw\"\n",
    "image_folderpath = \"C:/Users/anany\\Cambridge\\Part II Project\\data\\images\"\n",
    "split_ratio = 0.75\n",
    "image_type = \"spectrogram\"\n",
    "clip_length = 10\n",
    "shift_length = 500\n",
    "resize_dim = 28"
   ]
  },
  {
   "cell_type": "code",
   "execution_count": null,
   "metadata": {},
   "outputs": [],
   "source": [
    "'''temp = train_imgs.reshape((74, 1, 28, 28, 4))\n",
    "\n",
    "temp.shape'''"
   ]
  },
  {
   "cell_type": "code",
   "execution_count": null,
   "metadata": {},
   "outputs": [],
   "source": [
    "'''network = [\n",
    "        Convolutional(input_shape=(1, 28, 28, 4), kernel_size=3, depth=5), # output_shape=()\n",
    "        Sigmoid()\n",
    "    ]'''"
   ]
  },
  {
   "cell_type": "code",
   "execution_count": null,
   "metadata": {},
   "outputs": [],
   "source": [
    "'''c = Convolutional(input_shape=(1, 28, 28, 4), kernel_size=3, depth=5), # output_shape=()\n",
    "'''"
   ]
  },
  {
   "cell_type": "code",
   "execution_count": null,
   "metadata": {},
   "outputs": [],
   "source": [
    "'''epochs = 20\n",
    "learning_rate = 0.1\n",
    "\n",
    "for e in range(epochs):\n",
    "    error = 0\n",
    "\n",
    "    temp = zip(x_train, y_train)\n",
    "    for x, y in zip(x_train, y_train):\n",
    "        output = x\n",
    "        for layer in network:\n",
    "            output = layer.forward(output)\n",
    "        \n",
    "        error += binary_cross_entropy(y, output)\n",
    "\n",
    "        grad = binary_cross_entropy_prime(y, output)\n",
    "        for layer in reversed(network):\n",
    "            grad = layer.backward(grad, learning_rate)\n",
    "    \n",
    "    error /= len(x_train)\n",
    "    print(f\"{e + 1}/{epochs}, error = {error}\")'''"
   ]
  },
  {
   "cell_type": "code",
   "execution_count": null,
   "metadata": {},
   "outputs": [],
   "source": [
    "'''MNIST()'''"
   ]
  },
  {
   "cell_type": "code",
   "execution_count": null,
   "metadata": {},
   "outputs": [],
   "source": [
    "'''arr = np.array([[[0, 1, 2, 3], [0, 1, 2, 3], [0, 1, 2, 3]], [[0, 1, 2, 3], [0, 1, 2, 3], [0, 1, 2, 3]]])\n",
    "# 2 3 4\n",
    "\n",
    "new_arr = np.moveaxis(arr, 2, 0)\n",
    "# 4 3 2\n",
    "\n",
    "new_arr[:3]'''"
   ]
  },
  {
   "cell_type": "code",
   "execution_count": null,
   "metadata": {},
   "outputs": [],
   "source": [
    "'''arr'''"
   ]
  },
  {
   "cell_type": "code",
   "execution_count": null,
   "metadata": {},
   "outputs": [],
   "source": [
    "'''arr = train_imgs[0]\n",
    "\n",
    "new_arr = np.moveaxis(arr, -1, 0)\n",
    "\n",
    "new_arr'''"
   ]
  },
  {
   "cell_type": "code",
   "execution_count": null,
   "metadata": {},
   "outputs": [],
   "source": [
    "MNIST()"
   ]
  }
 ],
 "metadata": {
  "kernelspec": {
   "display_name": "Python 3 (ipykernel)",
   "language": "python",
   "name": "python3"
  },
  "language_info": {
   "codemirror_mode": {
    "name": "ipython",
    "version": 3
   },
   "file_extension": ".py",
   "mimetype": "text/x-python",
   "name": "python",
   "nbconvert_exporter": "python",
   "pygments_lexer": "ipython3",
   "version": "3.10.11"
  },
  "vscode": {
   "interpreter": {
    "hash": "1d1e73f74c8ec7a1671e8a50a2cf4a7de1dd968f28e814f9d8c3d6c3acdbc158"
   }
  }
 },
 "nbformat": 4,
 "nbformat_minor": 2
}
