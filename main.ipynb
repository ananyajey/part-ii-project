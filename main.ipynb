{
 "cells": [
  {
   "attachments": {},
   "cell_type": "markdown",
   "metadata": {},
   "source": [
    "# set up"
   ]
  },
  {
   "cell_type": "code",
   "execution_count": 65,
   "metadata": {},
   "outputs": [
    {
     "name": "stdout",
     "output_type": "stream",
     "text": [
      "The autoreload extension is already loaded. To reload it, use:\n",
      "  %reload_ext autoreload\n"
     ]
    }
   ],
   "source": [
    "%load_ext autoreload\n",
    "%autoreload 2"
   ]
  },
  {
   "cell_type": "code",
   "execution_count": 66,
   "metadata": {},
   "outputs": [],
   "source": [
    "# Imports\n",
    "\n",
    "import os\n",
    "from PIL import Image\n",
    "import random\n",
    "import numpy as np\n",
    "import tensorflow as tf\n",
    "\n",
    "from tensorflow.keras import datasets, layers, models\n",
    "import matplotlib.pyplot as plt\n",
    "import math\n",
    "\n",
    "from visualization_new import *\n",
    "\n",
    "import wave\n",
    "import librosa\n",
    "from unidecode import unidecode\n",
    "import csv"
   ]
  },
  {
   "attachments": {},
   "cell_type": "markdown",
   "metadata": {},
   "source": [
    "# image prep"
   ]
  },
  {
   "cell_type": "code",
   "execution_count": 67,
   "metadata": {},
   "outputs": [],
   "source": [
    "def get_genres(audio_folderpath):\n",
    "    genre_id = {}\n",
    "\n",
    "    for genre in os.listdir(audio_folderpath):\n",
    "        i = 1\n",
    "        while (genre[:i] in genre_id.values() and i <= len(genre)):\n",
    "            i += 1\n",
    "        genre_id[genre] = genre[:i]\n",
    "    \n",
    "    return genre_id\n"
   ]
  },
  {
   "cell_type": "code",
   "execution_count": 68,
   "metadata": {},
   "outputs": [],
   "source": [
    "# audio dict (initial)\n",
    "def get_audio_dict(audio_folderpath, genre_id):\n",
    "    audio_dict = {}\n",
    "\n",
    "    for genre in genre_id:\n",
    "        files = os.listdir(os.path.join(audio_folderpath, genre))\n",
    "        count = 0\n",
    "        # TODO: given an audio dictionary, find what max count for a genre is\n",
    "        for file in files:\n",
    "            filepath = os.path.join(audio_folderpath, genre, file)\n",
    "            id = genre_id[genre] + '{:03d}'.format(count)\n",
    "            count += 1\n",
    "            audio_dict[id] = filepath\n",
    "    \n",
    "    return audio_dict\n",
    "\n",
    "def create_csv(csv_filepath, audio_dict):\n",
    "    with open(csv_filepath, 'w', newline='') as file:\n",
    "        writer = csv.writer(file)\n",
    "        writer.writerows(list(audio_dict.items()))\n",
    "\n",
    "\n",
    "# audio dict (after initial)\n",
    "def get_audio_dict_csv(csv_filepath):\n",
    "    with open(csv_filepath, 'r') as file:\n",
    "        reader = csv.reader(file)\n",
    "        #next(reader)\n",
    "        audio_dict = {row[0]: row[1] for row in reader}\n",
    "    \n",
    "    return audio_dict"
   ]
  },
  {
   "cell_type": "code",
   "execution_count": 69,
   "metadata": {},
   "outputs": [],
   "source": [
    "def split_train_test(id_list, ratio):\n",
    "    random.shuffle(id_list)\n",
    "    split_index = int(ratio * len(id_list))\n",
    "\n",
    "    train_set = id_list[:split_index]\n",
    "    test_set = id_list[split_index:]\n",
    "\n",
    "    return train_set, test_set\n",
    "\n",
    "def split_k_fold(id_list, n_batches):\n",
    "    random.shuffle(id_list)\n",
    "    batches = []\n",
    "    index = 0\n",
    "    batch_size = math.ceil(len(id_list)/n_batches)\n",
    "    \n",
    "    for i in range(n_batches - 1):\n",
    "        batches.append(id_list[index:index+batch_size])\n",
    "        index += batch_size\n",
    "    batches.append(id_list[index:len(id_list)-1])\n",
    "\n",
    "    return batches\n"
   ]
  },
  {
   "cell_type": "code",
   "execution_count": 70,
   "metadata": {},
   "outputs": [],
   "source": [
    "def get_image_func(image_type):\n",
    "    if image_type == \"spectrogram\":\n",
    "        return wav_to_spectrogram\n",
    "    elif image_type == \"chromagram\":\n",
    "        return wav_to_chromagram\n",
    "    elif image_type == \"mfcc\":\n",
    "        return wav_to_mfcc\n",
    "    elif image_type == \"cochleagram\":\n",
    "        return wav_to_cochleagram\n",
    "    else:\n",
    "        return\n",
    "    \n"
   ]
  },
  {
   "cell_type": "code",
   "execution_count": 71,
   "metadata": {},
   "outputs": [],
   "source": [
    "# Set constants\n",
    "\n",
    "# Paths\n",
    "dataset = \"small\"\n",
    "\n",
    "if dataset == \"small\":\n",
    "    audio_folderpath = \"C:/Users/anany/Cambridge/Part II Project/data/audio/small\"\n",
    "    image_folderpath = \"C:/Users/anany/Cambridge/Part II Project/data/images/small\"\n",
    "    csv_filepath = \"C:/Users/anany/Cambridge/Part II Project/data/small.csv\"\n",
    "if dataset == \"large\":\n",
    "    audio_folderpath = \"C:/Users/anany/Cambridge/Part II Project/data/audio/large\"\n",
    "    image_folderpath = \"C:/Users/anany/Cambridge/Part II Project/data/images/large\"\n",
    "    csv_filepath = \"C:/Users/anany/Cambridge/Part II Project/data/large.csv\"\n",
    "\n",
    "image_type = \"spectrogram\"\n",
    "to_image = get_image_func(image_type)\n",
    "\n",
    "# Image options\n",
    "clip_length = 10\n",
    "shift_length = 5\n",
    "resize_dim = 50\n",
    "save = False\n",
    "\n",
    "# Model parameters\n",
    "generate = True\n",
    "split_ratio = 0.8\n",
    "k_folds = 5 # Only relevant if cross_validation is True\n",
    "cross_validation = False\n",
    "epochs = 30\n",
    "gen_batch_size = 60 # Only relevant if generate is True\n",
    "model_batch_size = 32"
   ]
  },
  {
   "cell_type": "code",
   "execution_count": 72,
   "metadata": {},
   "outputs": [],
   "source": [
    "def get_labels(id_list, label_list):\n",
    "    labels = np.array([label_list.index(x[0]) for x in id_list])\n",
    "    labels = labels.reshape((len(labels), 1))\n",
    "    return labels"
   ]
  },
  {
   "cell_type": "code",
   "execution_count": 73,
   "metadata": {},
   "outputs": [],
   "source": [
    "def image_split_label(id, audio_dict, clip_length, shift_length, resize_dim, label_list, image_folderpath = None):\n",
    "    '''\n",
    "    If folderpath is None, convert the audio file. If a folderpath is provided, obtain the images from this path.\n",
    "    Returns\n",
    "    -------\n",
    "    ids: list\n",
    "    imgs: numpy array\n",
    "    labels: numpy array\n",
    "    '''\n",
    "    ids = []\n",
    "    imgs = None\n",
    "    labels = None\n",
    "\n",
    "    # CONVERT/GET\n",
    "    if image_folderpath == None:\n",
    "        filepath = audio_dict[id]\n",
    "        images = to_image(filepath)\n",
    "\n",
    "    # SPLIT\n",
    "    for i in range(2):\n",
    "        if image_folderpath == None:\n",
    "            img = images[i]\n",
    "        else:\n",
    "            filepath = os.path.join(image_folderpath, f\"{id}_ch{i}.png\")\n",
    "            assert(os.path.exists(filepath)), f\"This filepath does not  exist: {filepath}\"\n",
    "            img = Image.open(filepath)\n",
    "        img_dict = split(img, id + \"_ch\" + str(i), clip_length, shift_length, resize_dim)\n",
    "        \n",
    "        # Set/update audio sample id list\n",
    "        ids.extend(list(img_dict.keys()))\n",
    "\n",
    "        # Set/update array of image arrays\n",
    "        if imgs is None:\n",
    "            imgs = np.array(list(img_dict.values()))\n",
    "        else:\n",
    "            imgs = np.append(imgs, np.array(list(img_dict.values())), axis = 0)\n",
    "\n",
    "    # LABEL\n",
    "    labels = get_labels(ids, label_list=label_list)\n",
    "\n",
    "    return ids, imgs, labels\n",
    "\n",
    "    "
   ]
  },
  {
   "cell_type": "code",
   "execution_count": 74,
   "metadata": {},
   "outputs": [],
   "source": [
    "def special_character_check(audio_folderpath):\n",
    "    for genre in os.listdir(audio_folderpath):\n",
    "        files = os.listdir(os.path.join(audio_folderpath, genre))\n",
    "        for file in files:\n",
    "            if file != unidecode(file):\n",
    "                filepath = os.path.join(audio_folderpath, genre, file)\n",
    "                if unidecode(filepath) != filepath:\n",
    "                    print(filepath)"
   ]
  },
  {
   "attachments": {},
   "cell_type": "markdown",
   "metadata": {},
   "source": [
    "# train/test"
   ]
  },
  {
   "attachments": {},
   "cell_type": "markdown",
   "metadata": {},
   "source": [
    "## without gen"
   ]
  },
  {
   "cell_type": "code",
   "execution_count": 75,
   "metadata": {},
   "outputs": [],
   "source": [
    "def convert_and_save(id_list, audio_dict, image_folderpath):\n",
    "    count = 0\n",
    "    for id in id_list:\n",
    "    # CONVERT\n",
    "        count += 1\n",
    "        print(f\"{count}/{len(id_list)}    {id}\", end=\"\")\n",
    "        filepath = audio_dict[id]\n",
    "        images = to_image(filepath)\n",
    "\n",
    "        # SAVE\n",
    "        for i in range(2):\n",
    "            images[i].save(os.path.join(image_folderpath, f\"{id}_ch{i}.png\"))\n",
    "        print(\"   DONE\")"
   ]
  },
  {
   "cell_type": "code",
   "execution_count": 76,
   "metadata": {},
   "outputs": [],
   "source": [
    "def return_data(id_list, audio_dict, clip_length, shift_length, resize_dim, label_list, image_folderpath=None):\n",
    "    ids = None\n",
    "    imgs = None\n",
    "    labels = None\n",
    "\n",
    "\n",
    "    count = 0\n",
    "    for id in id_list:\n",
    "\n",
    "        # Convert to images, split, and get labels\n",
    "        split_ids, split_imgs, split_labels = image_split_label(id, audio_dict=audio_dict, clip_length=clip_length, shift_length=shift_length, resize_dim=resize_dim, label_list=label_list, image_folderpath=image_folderpath)\n",
    "        \n",
    "        # Set/update audio sample id list\n",
    "        if ids is None:\n",
    "            ids = split_ids\n",
    "        else:\n",
    "            ids = np.append(ids, split_ids, axis = 0)\n",
    "\n",
    "        # Set/update array of image arrays\n",
    "        if imgs is None:\n",
    "            imgs = np.array(split_imgs)\n",
    "        else:\n",
    "            imgs = np.append(imgs, split_imgs, axis = 0)\n",
    "\n",
    "        # Set/update array of image labels\n",
    "        if labels is None:\n",
    "            labels = split_labels\n",
    "        else:\n",
    "            labels = np.append(labels, split_labels, axis = 0)\n",
    "\n",
    "        count += 1\n",
    "    \n",
    "    # Shuffle\n",
    "    indices = random.sample(range(len(ids)), len(ids))\n",
    "    ids = ids[indices]\n",
    "    imgs = imgs[indices]\n",
    "    labels = labels[indices]\n",
    "    \n",
    "    return ids, imgs, labels"
   ]
  },
  {
   "cell_type": "code",
   "execution_count": 77,
   "metadata": {},
   "outputs": [
    {
     "data": {
      "text/plain": [
       "\"def createModel2():\\n    model = models.Sequential()\\n    # The first two layers with 32 filters of window size 3x3\\n    #model.add(models.Conv2D(32, (3, 3), padding='same', activation='relu', input_shape=x_train[0].shape))\\n    model.add(layers.Conv2D(32, (3, 3), activation='relu', input_shape=x_train[0].shape))\\n    \\n    model.add(models.Conv2D(32, (3, 3), activation='relu'))\\n    model.add(models.MaxPooling2D(pool_size=(2, 2)))\\n    model.add(models.Dropout(0.25))\\n\\n    model.add(models.Conv2D(64, (3, 3), padding='same', activation='relu'))\\n    model.add(models.Conv2D(64, (3, 3), activation='relu'))\\n    model.add(models.MaxPooling2D(pool_size=(2, 2)))\\n    model.add(models.Dropout(0.25))\\n\\n    model.add(models.Conv2D(64, (3, 3), padding='same', activation='relu'))\\n    model.add(models.models.Conv2D(64, (3, 3), activation='relu'))\\n    model.add(models.MaxPooling2D(pool_size=(2, 2)))\\n    model.add(models.Dropout(0.25))\\n\\n    model.add(models.Flatten())\\n    model.add(models.Dense(512, activation='relu'))\\n    model.add(models.Dropout(0.5))\\n    model.add(models.Dense(models.nClasses, activation='softmax'))\\n    \\n    return model\""
      ]
     },
     "execution_count": 77,
     "metadata": {},
     "output_type": "execute_result"
    }
   ],
   "source": [
    "def createModel(input_shape, type=1):\n",
    "    if type == 1:\n",
    "        model = models.Sequential()\n",
    "        model.add(layers.Conv2D(32, (3, 3), activation='relu', input_shape=input_shape))\n",
    "        model.add(layers.MaxPooling2D((2, 2)))\n",
    "        model.add(layers.Conv2D(64, (3, 3), activation='relu'))\n",
    "        model.add(layers.MaxPooling2D((2, 2)))\n",
    "        model.add(layers.Conv2D(64, (3, 3), activation='relu'))\n",
    "\n",
    "        model.add(layers.Flatten())\n",
    "        model.add(layers.Dense(64, activation='relu'))\n",
    "        model.add(layers.Dense(5))\n",
    "    \n",
    "    return model\n",
    "\n",
    "'''def createModel2():\n",
    "    model = models.Sequential()\n",
    "    # The first two layers with 32 filters of window size 3x3\n",
    "    #model.add(models.Conv2D(32, (3, 3), padding='same', activation='relu', input_shape=x_train[0].shape))\n",
    "    model.add(layers.Conv2D(32, (3, 3), activation='relu', input_shape=x_train[0].shape))\n",
    "    \n",
    "    model.add(models.Conv2D(32, (3, 3), activation='relu'))\n",
    "    model.add(models.MaxPooling2D(pool_size=(2, 2)))\n",
    "    model.add(models.Dropout(0.25))\n",
    "\n",
    "    model.add(models.Conv2D(64, (3, 3), padding='same', activation='relu'))\n",
    "    model.add(models.Conv2D(64, (3, 3), activation='relu'))\n",
    "    model.add(models.MaxPooling2D(pool_size=(2, 2)))\n",
    "    model.add(models.Dropout(0.25))\n",
    "\n",
    "    model.add(models.Conv2D(64, (3, 3), padding='same', activation='relu'))\n",
    "    model.add(models.models.Conv2D(64, (3, 3), activation='relu'))\n",
    "    model.add(models.MaxPooling2D(pool_size=(2, 2)))\n",
    "    model.add(models.Dropout(0.25))\n",
    "\n",
    "    model.add(models.Flatten())\n",
    "    model.add(models.Dense(512, activation='relu'))\n",
    "    model.add(models.Dropout(0.5))\n",
    "    model.add(models.Dense(models.nClasses, activation='softmax'))\n",
    "    \n",
    "    return model'''"
   ]
  },
  {
   "cell_type": "code",
   "execution_count": 78,
   "metadata": {},
   "outputs": [],
   "source": [
    "genre_id = get_genres(audio_folderpath)\n",
    "genre_list = list(genre_id.keys())\n",
    "label_list = [genre_id[genre] for genre in genre_list]\n",
    "\n",
    "if save:\n",
    "    audio_dict = get_audio_dict(audio_folderpath, genre_id) # TODO: CHANGE TO MAKE??\n",
    "    id_list = list(audio_dict.keys())\n",
    "    convert_and_save(id_list, audio_dict=audio_dict, image_folderpath=image_folderpath)\n",
    "    create_csv(csv_filepath=csv_filepath, audio_dict=audio_dict)\n",
    "\n",
    "else:\n",
    "    audio_dict = get_audio_dict_csv(csv_filepath=csv_filepath)\n",
    "    id_list = list(audio_dict.keys())"
   ]
  },
  {
   "cell_type": "code",
   "execution_count": 79,
   "metadata": {},
   "outputs": [],
   "source": [
    "if not cross_validation and not generate:\n",
    "    train_id_list, test_id_list = split_train_test(id_list=id_list, ratio=split_ratio)\n",
    "    train_ids, x_train, y_train = return_data(train_id_list, audio_dict=audio_dict, clip_length=clip_length, shift_length=shift_length, resize_dim=resize_dim, label_list=label_list, image_folderpath=image_folderpath)\n",
    "    test_ids, x_test, y_test = return_data(test_id_list, audio_dict=audio_dict, clip_length=clip_length, shift_length=shift_length, resize_dim=resize_dim, label_list=label_list, image_folderpath=image_folderpath)\n",
    "\n",
    "    model = createModel(type=1, input_shape=x_train[0].shape)\n",
    "\n",
    "    model.compile(optimizer=tf.keras.optimizers.SGD(learning_rate=0.001),\n",
    "                loss=tf.keras.losses.SparseCategoricalCrossentropy(from_logits=True),\n",
    "                metrics=['accuracy'])\n",
    "\n",
    "    history = model.fit(x_train, y_train, epochs=epochs, \n",
    "                        validation_data=(x_test, y_test))\n",
    "\n",
    "    test_similarity = np.zeros((len(label_list), len(label_list)))\n",
    "\n",
    "    test_pred_probs = model.predict(x_test)\n",
    "    test_pred_classes = test_pred_probs.argmax(axis=1)\n",
    "    test_actual_classes = y_test.T[0]\n",
    "    for i in range(len(test_pred_classes)):\n",
    "        test_similarity[test_pred_classes[i]][test_actual_classes[i]] += 1\n",
    "    \n",
    "    norm_test_similarity = np.zeros((len(label_list), len(label_list)))\n",
    "    for i in range(len(label_list)):\n",
    "        norm_test_similarity[:, i] = test_similarity[:, i]/sum(test_similarity[:, i])\n"
   ]
  },
  {
   "cell_type": "code",
   "execution_count": 80,
   "metadata": {},
   "outputs": [],
   "source": [
    "if cross_validation and not generate:\n",
    "    train_val_id_list, test_id_list = split_train_test(id_list, split_ratio)\n",
    "    batches = split_k_fold(train_val_id_list, k_folds)\n",
    "\n",
    "    loss = []\n",
    "    accuracy = []\n",
    "    val_loss = []\n",
    "    val_accuracy = []\n",
    "    val_similarity = np.zeros((len(label_list), len(label_list)))\n",
    "    norm_val_similarity = np.zeros((len(label_list), len(label_list)))\n",
    "    test_similarity = np.zeros((len(label_list), len(label_list)))\n",
    "    norm_test_similarity = np.zeros((len(label_list), len(label_list)))\n",
    "    test_ids, x_test, y_test = return_data(test_id_list, audio_dict=audio_dict, clip_length=clip_length, shift_length=shift_length, resize_dim=resize_dim, label_list=label_list, image_folderpath=image_folderpath)\n",
    "\n",
    "\n",
    "    for b in range(len(batches)):\n",
    "\n",
    "        # Get data\n",
    "        if b != len(batches) - 1:\n",
    "            train_id_list = batches[0:b] + batches[b+1:]\n",
    "        else:\n",
    "            train_id_list = batches[:-1]\n",
    "        \n",
    "        train_id_list = [item for batch in train_id_list for item in batch]\n",
    "        val_id_list = batches[b]\n",
    "\n",
    "        train_ids, x_train, y_train = return_data(train_id_list, audio_dict=audio_dict, clip_length=clip_length, shift_length=shift_length, resize_dim=resize_dim, label_list=label_list, image_folderpath=image_folderpath)\n",
    "        val_ids, x_val, y_val = return_data(val_id_list, audio_dict=audio_dict, clip_length=clip_length, shift_length=shift_length, resize_dim=resize_dim, label_list=label_list, image_folderpath=image_folderpath)\n",
    "\n",
    "\n",
    "        # Create model\n",
    "        model = createModel(type=1, input_shape=x_train[0].shape)\n",
    "\n",
    "        model.compile(optimizer=tf.keras.optimizers.SGD(learning_rate=0.001),\n",
    "                    loss=tf.keras.losses.SparseCategoricalCrossentropy(from_logits=True),\n",
    "                    metrics=['accuracy'])\n",
    "        \n",
    "        # Train model\n",
    "        history = model.fit(x_train, y_train, epochs=epochs, \n",
    "                            validation_data=(x_val, y_val))\n",
    "        \n",
    "        # Get results\n",
    "        loss.append(np.array(history.history['loss']))\n",
    "        accuracy.append(np.array(history.history['accuracy']))\n",
    "        val_loss.append(np.array(history.history['val_loss']))\n",
    "        val_accuracy.append(np.array(history.history['val_accuracy']))\n",
    "\n",
    "        # Validation classification results\n",
    "        val_pred_probs = model.predict(x_val)\n",
    "        val_pred_classes = val_pred_probs.argmax(axis=1)\n",
    "        val_actual = y_val.T[0]\n",
    "        for i in range(len(val_pred_classes)):\n",
    "            val_similarity[val_pred_classes[i]][val_actual[i]] += 1\n",
    "\n",
    "        # Test classification results\n",
    "        test_pred_probs = model.predict(x_test)\n",
    "        test_pred_classes = test_pred_probs.argmax(axis=1)\n",
    "        test_actual_classes = y_test.T[0]\n",
    "        for i in range(len(test_pred_classes)):\n",
    "            test_similarity[test_pred_classes[i]][test_actual_classes[i]] += 1\n",
    "\n",
    "    loss = np.array(loss)\n",
    "    accuracy = np.array(accuracy)\n",
    "    val_loss = np.array(val_loss)\n",
    "    val_accuracy = np.array(val_accuracy)\n",
    "\n",
    "    for i in range(len(label_list)):\n",
    "        norm_val_similarity[:, i] = val_similarity[:, i]/sum(val_similarity[:, i])\n",
    "        norm_test_similarity[:, i] = test_similarity[:, i]/sum(test_similarity[:, i])"
   ]
  },
  {
   "attachments": {},
   "cell_type": "markdown",
   "metadata": {},
   "source": [
    "## with gen"
   ]
  },
  {
   "cell_type": "code",
   "execution_count": 81,
   "metadata": {},
   "outputs": [],
   "source": [
    "def generate_data(id_list, audio_dict, clip_length, shift_length, resize_dim, label_list, image_folderpath = None, gen_batch_size = 1, model_batch_size = None, mode = \"train\"):\n",
    "    '''\n",
    "    Parameters\n",
    "    ----------\n",
    "    id_list\n",
    "        List of song IDs to be converted into images\n",
    "\n",
    "    folderpath\n",
    "        Path sa\n",
    "    \n",
    "    n\n",
    "        Number of songs to convert each iteration\n",
    "    \n",
    "    mode\n",
    "        \"generate\" or \"return\"\n",
    "\n",
    "    Returns\n",
    "    -------\n",
    "    imgs\n",
    "        Arrays of converted images\n",
    "\n",
    "    labels\n",
    "        Respective labels for converted images in imgs\n",
    "\n",
    "    '''\n",
    "    out_ids = []\n",
    "    out_imgs = None\n",
    "    out_labels = None\n",
    "    n_count = 0\n",
    "    id_count = 0\n",
    "\n",
    "    if mode == \"train\":\n",
    "    \n",
    "        while True:\n",
    "                \n",
    "            '''\n",
    "            # convert 1 song\n",
    "            # update out_... values\n",
    "            # update bigcount and smallcount\n",
    "            # if smallcount mod n is 0:\n",
    "                # shuffle all 3\n",
    "                # update appropriate id list\n",
    "                # yield id and label values\n",
    "                # set everything to none\n",
    "            \n",
    "            # if bigcount == len(idlist):\n",
    "                # count = 0\n",
    "                # shuffle list?\n",
    "            '''\n",
    "\n",
    "            # convert 1 song\n",
    "            id = id_list[id_count]\n",
    "            #print(id_count, id)\n",
    "            \n",
    "            new_ids, new_imgs, new_labels = image_split_label(id, audio_dict=audio_dict, clip_length=clip_length, shift_length=shift_length, resize_dim=resize_dim, label_list=label_list, image_folderpath=image_folderpath)\n",
    "\n",
    "            out_ids.extend(new_ids)\n",
    "\n",
    "            if out_imgs is None:\n",
    "                out_imgs = new_imgs\n",
    "                out_labels = new_labels\n",
    "            else:\n",
    "                out_imgs = np.append(out_imgs, new_imgs, axis=0)\n",
    "                out_labels = np.append(out_labels, new_labels, axis=0)\n",
    "\n",
    "            # update bigcount and smallcount\n",
    "            n_count += 1\n",
    "            id_count += 1\n",
    "\n",
    "            #print(id_count, id)\n",
    "\n",
    "            if (n_count % gen_batch_size == 0) or (id_count == len(id_list)):\n",
    "                assert(len(out_ids) == len(out_imgs) == len(out_labels)), \"Something went wrong when generating, the dimensions of ids, imgs, and labels do not match.\" # sanity check\n",
    "                perm = np.random.permutation(len(out_ids))\n",
    "                out_imgs = out_imgs[perm]\n",
    "                out_labels = out_labels[perm]\n",
    "                if model_batch_size is None:\n",
    "                    yield out_imgs, out_labels\n",
    "                else:\n",
    "                    while len(out_labels) >= model_batch_size:\n",
    "                        yield out_imgs[:model_batch_size], out_labels[:model_batch_size]\n",
    "                        out_imgs = out_imgs[model_batch_size:]\n",
    "                        out_labels = out_labels[model_batch_size:]\n",
    "\n",
    "                out_ids = []\n",
    "                out_imgs = None\n",
    "                out_labels = None\n",
    "            \n",
    "                if id_count == len(id_list):\n",
    "                    id_count = 0\n",
    "                    n_count = 0\n",
    "                    random.shuffle(id_list)\n",
    "\n",
    "    if mode == \"test\":\n",
    "        # TODO return just images without shuffling\n",
    "        while id_count < len(id_list):\n",
    "            # convert 1 song\n",
    "            id = id_list[id_count]\n",
    "            print(id_count, id)\n",
    "            \n",
    "            new_ids, new_imgs, new_labels = image_split_label(id, image_folderpath=image_folderpath, audio_dict=audio_dict, clip_length=clip_length, shift_length=shift_length, resize_dim=resize_dim, label_list=label_list)\n",
    "\n",
    "            if out_imgs is None:\n",
    "                out_imgs = new_imgs\n",
    "            else:\n",
    "                out_imgs = np.append(out_imgs, new_imgs, axis=0)\n",
    "\n",
    "            n_count += 1\n",
    "            id_count += 1\n",
    "\n",
    "            if n_count % gen_batch_size == 0:\n",
    "                yield out_imgs\n",
    "\n",
    "                out_imgs = None                \n",
    "            \n",
    "            if id_count == len(id_list):\n",
    "                if out_imgs is not None:\n",
    "                    yield out_imgs\n",
    "    "
   ]
  },
  {
   "cell_type": "code",
   "execution_count": 82,
   "metadata": {},
   "outputs": [],
   "source": [
    "def get_clip_ids(id_list, audio_dict, clip_length, shift_length):\n",
    "    clip_id_list = []\n",
    "    for id in id_list:\n",
    "        filepath = audio_dict[id]\n",
    "        new_ids = []\n",
    "        with wave.open(filepath, \"rb\") as wav_file:\n",
    "            frame_count = wav_file.getnframes()\n",
    "            sample_rate = wav_file.getframerate()\n",
    "\n",
    "            audio_len = frame_count/sample_rate\n",
    "        for i in range(2):\n",
    "            left = 0.\n",
    "            right = left + clip_length\n",
    "            while right <= audio_len:\n",
    "                new_id = f\"{id}_ch{i}_{left}_{right}\"\n",
    "                new_ids.append(new_id)\n",
    "                left += shift_length\n",
    "                right += shift_length\n",
    "        clip_id_list = clip_id_list + new_ids\n",
    "    \n",
    "    return clip_id_list\n"
   ]
  },
  {
   "cell_type": "code",
   "execution_count": 83,
   "metadata": {},
   "outputs": [],
   "source": [
    "def temp(id_list, b=False):\n",
    "    ids, imgs, labels = return_data(id_list, audio_dict=audio_dict, clip_length=clip_length, shift_length=shift_length, resize_dim=resize_dim, label_list=label_list, image_folderpath=image_folderpath)\n",
    "\n",
    "    while True:\n",
    "        i = 0\n",
    "        while i + 2 <= len(ids):\n",
    "            yield imgs[i:i+2], labels[i: i+2]\n",
    "            i += 2\n",
    "        yield imgs[i:], labels[i:]\n",
    "\n",
    "        if b:\n",
    "            break\n",
    "    "
   ]
  },
  {
   "cell_type": "code",
   "execution_count": 84,
   "metadata": {},
   "outputs": [
    {
     "name": "stdout",
     "output_type": "stream",
     "text": [
      "Epoch 1/30\n",
      "81/81 [==============================] - 7s 78ms/step - loss: 1.5958 - accuracy: 0.0000e+00 - val_loss: 1.6307 - val_accuracy: 0.0000e+00\n",
      "Epoch 2/30\n",
      "81/81 [==============================] - 7s 59ms/step - loss: 1.5803 - accuracy: 0.0000e+00 - val_loss: 1.6449 - val_accuracy: 0.0000e+00\n",
      "Epoch 3/30\n",
      "81/81 [==============================] - 9s 54ms/step - loss: 1.5656 - accuracy: 0.0000e+00 - val_loss: 1.6531 - val_accuracy: 0.0000e+00\n",
      "Epoch 4/30\n",
      "81/81 [==============================] - 9s 54ms/step - loss: 1.5509 - accuracy: 0.0000e+00 - val_loss: 1.6519 - val_accuracy: 0.0000e+00\n",
      "Epoch 5/30\n",
      "81/81 [==============================] - 9s 55ms/step - loss: 1.5324 - accuracy: 0.0000e+00 - val_loss: 1.6470 - val_accuracy: 0.0000e+00\n",
      "Epoch 6/30\n",
      "81/81 [==============================] - 9s 54ms/step - loss: 1.5096 - accuracy: 0.0000e+00 - val_loss: 1.6317 - val_accuracy: 0.0000e+00\n",
      "Epoch 7/30\n",
      "81/81 [==============================] - 9s 54ms/step - loss: 1.4806 - accuracy: 0.0000e+00 - val_loss: 1.6031 - val_accuracy: 0.0000e+00\n",
      "Epoch 8/30\n",
      "81/81 [==============================] - 9s 54ms/step - loss: 1.4411 - accuracy: 0.0000e+00 - val_loss: 1.5420 - val_accuracy: 0.0000e+00\n",
      "Epoch 9/30\n",
      "81/81 [==============================] - 9s 53ms/step - loss: 1.3890 - accuracy: 0.0085 - val_loss: 1.4717 - val_accuracy: 0.0000e+00\n",
      "Epoch 10/30\n",
      "81/81 [==============================] - 9s 56ms/step - loss: 1.3233 - accuracy: 0.0177 - val_loss: 1.3900 - val_accuracy: 0.0047\n",
      "Epoch 11/30\n",
      "81/81 [==============================] - 9s 53ms/step - loss: 1.2519 - accuracy: 0.0602 - val_loss: 1.3277 - val_accuracy: 0.0203\n",
      "Epoch 12/30\n",
      "81/81 [==============================] - 9s 56ms/step - loss: 1.1842 - accuracy: 0.1022 - val_loss: 1.2679 - val_accuracy: 0.2078\n",
      "Epoch 13/30\n",
      "81/81 [==============================] - 9s 54ms/step - loss: 1.1341 - accuracy: 0.1644 - val_loss: 1.2563 - val_accuracy: 0.1219\n",
      "Epoch 14/30\n",
      "81/81 [==============================] - 9s 54ms/step - loss: 1.0935 - accuracy: 0.1825 - val_loss: 1.2817 - val_accuracy: 0.0578\n",
      "Epoch 15/30\n",
      "81/81 [==============================] - 9s 55ms/step - loss: 1.0563 - accuracy: 0.1817 - val_loss: 1.2495 - val_accuracy: 0.2328\n",
      "Epoch 16/30\n",
      "81/81 [==============================] - 9s 54ms/step - loss: 1.0219 - accuracy: 0.1979 - val_loss: 1.1931 - val_accuracy: 0.2172\n",
      "Epoch 17/30\n",
      "81/81 [==============================] - 9s 56ms/step - loss: 0.9860 - accuracy: 0.2110 - val_loss: 1.2088 - val_accuracy: 0.2547\n",
      "Epoch 18/30\n",
      "81/81 [==============================] - 9s 54ms/step - loss: 0.9555 - accuracy: 0.2245 - val_loss: 1.2128 - val_accuracy: 0.2391\n",
      "Epoch 19/30\n",
      "81/81 [==============================] - 10s 66ms/step - loss: 0.9225 - accuracy: 0.2110 - val_loss: 1.1821 - val_accuracy: 0.2438\n",
      "Epoch 20/30\n",
      "81/81 [==============================] - 9s 59ms/step - loss: 0.8873 - accuracy: 0.2133 - val_loss: 1.0112 - val_accuracy: 0.2937\n",
      "Epoch 21/30\n",
      "81/81 [==============================] - 11s 80ms/step - loss: 0.8490 - accuracy: 0.2203 - val_loss: 1.1875 - val_accuracy: 0.1813\n",
      "Epoch 22/30\n",
      "81/81 [==============================] - 7s 56ms/step - loss: 0.8155 - accuracy: 0.2133 - val_loss: 1.1540 - val_accuracy: 0.2688\n",
      "Epoch 23/30\n",
      "81/81 [==============================] - 9s 56ms/step - loss: 0.7967 - accuracy: 0.2288 - val_loss: 1.0797 - val_accuracy: 0.2578\n",
      "Epoch 24/30\n",
      "81/81 [==============================] - 9s 57ms/step - loss: 0.7805 - accuracy: 0.2269 - val_loss: 1.0802 - val_accuracy: 0.2656\n",
      "Epoch 25/30\n",
      "81/81 [==============================] - 9s 57ms/step - loss: 0.7647 - accuracy: 0.2211 - val_loss: 1.0450 - val_accuracy: 0.2750\n",
      "Epoch 26/30\n",
      "81/81 [==============================] - 9s 58ms/step - loss: 0.7333 - accuracy: 0.2176 - val_loss: 0.9719 - val_accuracy: 0.2906\n",
      "Epoch 27/30\n",
      "81/81 [==============================] - 9s 59ms/step - loss: 0.7126 - accuracy: 0.2207 - val_loss: 0.8405 - val_accuracy: 0.3047\n",
      "Epoch 28/30\n",
      "81/81 [==============================] - 9s 56ms/step - loss: 0.6945 - accuracy: 0.2180 - val_loss: 1.0675 - val_accuracy: 0.2953\n",
      "Epoch 29/30\n",
      "81/81 [==============================] - 9s 56ms/step - loss: 0.6657 - accuracy: 0.2145 - val_loss: 1.2713 - val_accuracy: 0.3094\n",
      "Epoch 30/30\n",
      "81/81 [==============================] - 9s 57ms/step - loss: 0.6684 - accuracy: 0.2083 - val_loss: 1.2596 - val_accuracy: 0.2812\n",
      "0 b008\n",
      "1 p005\n",
      "2 b006\n",
      "3 p004\n",
      "4 p002\n",
      "5 j009\n",
      "6 h003\n",
      "7 h001\n",
      "8 r009\n",
      "9 b010\n",
      "1/1 [==============================] - 0s 236ms/step\n"
     ]
    }
   ],
   "source": [
    "if not cross_validation and generate:       # setup train/test, \n",
    "\n",
    "    train_id_list, val_id_list = split_train_test(id_list=id_list, ratio=split_ratio)\n",
    "\n",
    "    train_set_len = len(get_clip_ids(train_id_list, audio_dict=audio_dict, clip_length=clip_length, shift_length=shift_length))\n",
    "    val_set_len = len(get_clip_ids(val_id_list, audio_dict=audio_dict, clip_length=clip_length, shift_length=shift_length))\n",
    "\n",
    "\n",
    "    train_func = generate_data(train_id_list, image_folderpath=image_folderpath, gen_batch_size=gen_batch_size, model_batch_size=model_batch_size, mode=\"train\", audio_dict=audio_dict, clip_length=clip_length, shift_length=shift_length, resize_dim=resize_dim, label_list=label_list)\n",
    "    val_func = generate_data(val_id_list, image_folderpath=image_folderpath, gen_batch_size=gen_batch_size, model_batch_size=model_batch_size, mode=\"train\", audio_dict=audio_dict, clip_length=clip_length, shift_length=shift_length, resize_dim=resize_dim, label_list=label_list)\n",
    "    \n",
    "    #train_func = (temp(train_id_list))\n",
    "    #val_func = temp(val_id_list)\n",
    "    \n",
    "    input_shape = (resize_dim, resize_dim, 1)\n",
    "\n",
    "    model = createModel(input_shape=input_shape)\n",
    "    # TODO: what if not resized -- how to get dimensions of an \n",
    "\n",
    "    model.compile(optimizer=tf.keras.optimizers.SGD(learning_rate=0.0025),\n",
    "                loss=tf.keras.losses.SparseCategoricalCrossentropy(from_logits=True),\n",
    "                metrics=['accuracy'])\n",
    "\n",
    "    history = model.fit(train_func,\n",
    "                        steps_per_epoch=int(train_set_len/model_batch_size),\n",
    "                                epochs=epochs,\n",
    "                                validation_data=val_func,\n",
    "                                validation_steps=int(val_set_len/model_batch_size),\n",
    "                                shuffle=True,\n",
    "                                batch_size=model_batch_size)\n",
    "    \n",
    "    test_func = generate_data(val_id_list, image_folderpath=image_folderpath, gen_batch_size=gen_batch_size, model_batch_size=model_batch_size, mode=\"test\", audio_dict=audio_dict, clip_length=clip_length, shift_length=shift_length, resize_dim=resize_dim, label_list=label_list)\n",
    "    test_pred_probs = model.predict(test_func)\n",
    "    test_pred_classes = test_pred_probs.argmax(axis=1)\n",
    "\n",
    "    test_clip_ids = get_clip_ids(val_id_list, audio_dict=audio_dict, clip_length=clip_length, shift_length=shift_length)\n",
    "    test_actual_classes = get_labels(test_clip_ids, label_list=label_list)\n",
    "\n",
    "    test_similarity = np.zeros((len(label_list), len(label_list)))\n",
    "    for i in range(len(test_pred_classes)):\n",
    "        test_similarity[test_pred_classes[i]][test_actual_classes[i]] += 1\n",
    "    \n",
    "    norm_test_similarity = np.zeros((len(label_list), len(label_list)))\n",
    "    for i in range(len(label_list)):\n",
    "        norm_test_similarity[:, i] = test_similarity[:, i]/sum(test_similarity[:, i])"
   ]
  },
  {
   "cell_type": "code",
   "execution_count": 85,
   "metadata": {},
   "outputs": [],
   "source": [
    "if cross_validation and generate:       # setup train/test, \n",
    "\n",
    "    train_val_id_list, test_id_list = split_train_test(id_list, split_ratio)\n",
    "    batches = split_k_fold(train_val_id_list, k_folds)\n",
    "\n",
    "    loss = []\n",
    "    accuracy = []\n",
    "    val_loss = []\n",
    "    val_accuracy = []\n",
    "    val_similarity = np.zeros((len(label_list), len(label_list)))\n",
    "    norm_val_similarity = np.zeros((len(label_list), len(label_list)))\n",
    "    test_similarity = np.zeros((len(label_list), len(label_list)))\n",
    "    norm_test_similarity = np.zeros((len(label_list), len(label_list)))\n",
    "    #test_ids, x_test, y_test = return_data(test_id_list, audio_dict=audio_dict, clip_length=clip_length, shift_length=shift_length, resize_dim=resize_dim, label_list=label_list, image_folderpath=image_folderpath)\n",
    "    test_clip_ids = get_clip_ids(test_id_list, audio_dict=audio_dict, clip_length=clip_length, shift_length=shift_length)\n",
    "    test_actual_classes = get_labels(test_clip_ids, label_list=label_list)\n",
    " \n",
    "    \n",
    "    for b in range(len(batches)):\n",
    "\n",
    "        # Get data\n",
    "        if b != len(batches) - 1:\n",
    "            train_id_list = batches[0:b] + batches[b+1:]\n",
    "        else:\n",
    "            train_id_list = batches[:-1]\n",
    "        \n",
    "        train_id_list = [item for batch in train_id_list for item in batch]\n",
    "        val_id_list = batches[b]\n",
    "\n",
    "        train_func = generate_data(train_id_list, image_folderpath=image_folderpath, gen_batch_size=gen_batch_size, model_batch_size=model_batch_size, mode=\"train\", audio_dict=audio_dict, clip_length=clip_length, shift_length=shift_length, resize_dim=resize_dim, label_list=label_list)\n",
    "        val_func = generate_data(val_id_list, image_folderpath=image_folderpath, gen_batch_size=gen_batch_size, model_batch_size=model_batch_size, mode=\"train\", audio_dict=audio_dict, clip_length=clip_length, shift_length=shift_length, resize_dim=resize_dim, label_list=label_list)\n",
    "\n",
    "        train_set_len = len(get_clip_ids(train_id_list, audio_dict=audio_dict, clip_length=clip_length, shift_length=shift_length))\n",
    "        val_set_len = len(get_clip_ids(val_id_list, audio_dict=audio_dict, clip_length=clip_length, shift_length=shift_length))\n",
    "\n",
    "\n",
    "        input_shape = (resize_dim, resize_dim, 1)\n",
    "\n",
    "        model = createModel(input_shape=input_shape)\n",
    "\n",
    "        model.compile(optimizer=tf.keras.optimizers.SGD(learning_rate=0.0005),\n",
    "                    loss=tf.keras.losses.SparseCategoricalCrossentropy(from_logits=True),\n",
    "                    metrics=['accuracy'])\n",
    "\n",
    "        history = model.fit(train_func,\n",
    "                            steps_per_epoch=int(train_set_len/model_batch_size),\n",
    "                                    epochs=epochs,\n",
    "                                    validation_data=val_func,\n",
    "                                    validation_steps=int(val_set_len/model_batch_size),\n",
    "                                    shuffle=True,\n",
    "                                    batch_size=model_batch_size)\n",
    "     \n",
    "        # Get results\n",
    "        loss.append(np.array(history.history['loss']))\n",
    "        accuracy.append(np.array(history.history['accuracy']))\n",
    "        val_loss.append(np.array(history.history['val_loss']))\n",
    "        val_accuracy.append(np.array(history.history['val_accuracy']))\n",
    "\n",
    "        # Validation classification results\n",
    "        val_pred_func = generate_data(val_id_list, image_folderpath=image_folderpath, gen_batch_size=gen_batch_size, model_batch_size=model_batch_size, mode=\"test\", audio_dict=audio_dict, clip_length=clip_length, shift_length=shift_length, resize_dim=resize_dim, label_list=label_list)\n",
    "        val_pred_probs = model.predict(val_pred_func)\n",
    "        val_pred_classes = val_pred_probs.argmax(axis=1)\n",
    "\n",
    "        val_clip_ids = get_clip_ids(val_id_list, audio_dict=audio_dict, clip_length=clip_length, shift_length=shift_length)\n",
    "        val_actual_classes = get_labels(val_clip_ids, label_list=label_list)\n",
    "        for i in range(len(val_pred_classes)):\n",
    "            val_similarity[val_pred_classes[i]][val_actual_classes[i]] += 1\n",
    "\n",
    "        # Test classification results\n",
    "        test_pred_func = generate_data(val_id_list, image_folderpath=image_folderpath, gen_batch_size=gen_batch_size, model_batch_size=model_batch_size, mode=\"test\", audio_dict=audio_dict, clip_length=clip_length, shift_length=shift_length, resize_dim=resize_dim, label_list=label_list)\n",
    "        test_pred_probs = model.predict(test_pred_func)\n",
    "        test_pred_classes = test_pred_probs.argmax(axis=1)\n",
    "        \n",
    "        for i in range(len(test_pred_classes)):\n",
    "            test_similarity[test_pred_classes[i]][test_actual_classes[i]] += 1\n",
    "\n",
    "    loss = np.array(loss)\n",
    "    accuracy = np.array(accuracy)\n",
    "    val_loss = np.array(val_loss)\n",
    "    val_accuracy = np.array(val_accuracy)\n",
    "\n",
    "    for i in range(len(label_list)):\n",
    "        norm_val_similarity[:, i] = val_similarity[:, i]/sum(val_similarity[:, i])\n",
    "        norm_test_similarity[:, i] = test_similarity[:, i]/sum(test_similarity[:, i])\n"
   ]
  },
  {
   "attachments": {},
   "cell_type": "markdown",
   "metadata": {},
   "source": [
    "# graphs"
   ]
  },
  {
   "cell_type": "code",
   "execution_count": 86,
   "metadata": {},
   "outputs": [
    {
     "data": {
      "image/png": "[encoded data removed]",
      "text/plain": [
       "<Figure size 640x480 with 1 Axes>"
      ]
     },
     "metadata": {},
     "output_type": "display_data"
    }
   ],
   "source": [
    "# Loss Function\n",
    "\n",
    "if not cross_validation:\n",
    "    plt.plot(history.history['loss'], label='Training Loss')\n",
    "    plt.plot(history.history['val_loss'], label='Validation Loss')\n",
    "    plt.title('Training and Validation Loss')\n",
    "    plt.xlabel('Epoch')\n",
    "    plt.ylabel('Loss')\n",
    "    plt.legend()\n",
    "    plt.show()\n",
    "\n",
    "\n",
    "if cross_validation:\n",
    "    plt.plot(sum(loss)/len(loss), label='Average Training Loss')\n",
    "    plt.plot(sum(val_loss)/len(loss), label='Average Validation Loss')\n",
    "    plt.title('Average Training and Validation Loss')\n",
    "    plt.xlabel('Epoch')\n",
    "    plt.ylabel('Loss')\n",
    "    plt.legend()\n",
    "    plt.show()"
   ]
  },
  {
   "cell_type": "code",
   "execution_count": 87,
   "metadata": {},
   "outputs": [
    {
     "data": {
      "image/png": "[encoded data removed]",
      "text/plain": [
       "<Figure size 640x480 with 1 Axes>"
      ]
     },
     "metadata": {},
     "output_type": "display_data"
    }
   ],
   "source": [
    "# Accuracy Function\n",
    "\n",
    "if not cross_validation:\n",
    "    plt.plot(history.history['accuracy'], label='Training Accuracy')\n",
    "    plt.plot(history.history['val_accuracy'], label='Validation Accuracy')\n",
    "    plt.title('Training and Validation Accuracy')\n",
    "    plt.xlabel('Epoch')\n",
    "    plt.ylabel('Accuracy')\n",
    "    plt.legend()\n",
    "    plt.show()\n",
    "\n",
    "if cross_validation:\n",
    "    plt.plot(sum(accuracy)/len(accuracy), label='Average Training Accuracy')\n",
    "    plt.plot(sum(val_accuracy)/len(val_accuracy), label='Average Validation Accuracy')\n",
    "    plt.title('Average Training and Validation Accuracy')\n",
    "    plt.xlabel('Epoch')\n",
    "    plt.ylabel('Accuracy')\n",
    "    plt.legend()\n",
    "    plt.show()"
   ]
  },
  {
   "cell_type": "code",
   "execution_count": 88,
   "metadata": {},
   "outputs": [],
   "source": [
    "# Validation Confusion Matrix\n",
    "\n",
    "if cross_validation:\n",
    "\n",
    "    fig, ax = plt.subplots()\n",
    "    ax.imshow(norm_val_similarity, cmap = \"gray_r\")\n",
    "\n",
    "    labels = [item.get_text() for item in ax.get_yticklabels()]\n",
    "    for i in range(1, len(labels) - 1):\n",
    "        labels[i] = genre_list[i - 1]\n",
    "\n",
    "    ax.set_xticklabels(labels, rotation = 45, ha = \"right\")\n",
    "    ax.set_yticklabels(labels)\n",
    "\n",
    "    ax.set_xlabel(\"Actual class\")\n",
    "    ax.set_ylabel(\"Predicted class\")\n",
    "    ax.set_title(\"Validation Classification Matrix\")\n",
    "\n",
    "    plt.show()"
   ]
  },
  {
   "cell_type": "code",
   "execution_count": 89,
   "metadata": {},
   "outputs": [
    {
     "name": "stderr",
     "output_type": "stream",
     "text": [
      "C:\\Users\\anany\\AppData\\Local\\Temp\\ipykernel_16300\\3790233821.py:10: UserWarning: FixedFormatter should only be used together with FixedLocator\n",
      "  ax.set_xticklabels(labels, rotation = 45, ha = \"right\")\n",
      "C:\\Users\\anany\\AppData\\Local\\Temp\\ipykernel_16300\\3790233821.py:11: UserWarning: FixedFormatter should only be used together with FixedLocator\n",
      "  ax.set_yticklabels(labels)\n"
     ]
    },
    {
     "data": {
      "image/png": "[encoded data removed]",
      "text/plain": [
       "<Figure size 640x480 with 1 Axes>"
      ]
     },
     "metadata": {},
     "output_type": "display_data"
    }
   ],
   "source": [
    "# Test Confusion Matrix\n",
    "\n",
    "fig, ax = plt.subplots()\n",
    "ax.imshow(norm_test_similarity, cmap = \"gray_r\")\n",
    "\n",
    "labels = [item.get_text() for item in ax.get_yticklabels()]\n",
    "for i in range(1, len(labels) - 1):\n",
    "    labels[i] = genre_list[i - 1]\n",
    "\n",
    "ax.set_xticklabels(labels, rotation = 45, ha = \"right\")\n",
    "ax.set_yticklabels(labels)\n",
    "\n",
    "ax.set_xlabel(\"Actual class\")\n",
    "ax.set_ylabel(\"Predicted class\")\n",
    "ax.set_title(\"Test Classification Matrix\")\n",
    "\n",
    "plt.show()"
   ]
  },
  {
   "cell_type": "code",
   "execution_count": 90,
   "metadata": {},
   "outputs": [
    {
     "name": "stdout",
     "output_type": "stream",
     "text": [
      "[[184.   0.   0.   5.   0.]\n",
      " [  0. 133.  10.  55.   6.]\n",
      " [  0.   0.   1.  43.   0.]\n",
      " [  0.   0.   0.  47.   0.]\n",
      " [ 14.   5.  41.  54.  50.]]\n"
     ]
    }
   ],
   "source": [
    "print(test_similarity)"
   ]
  },
  {
   "cell_type": "code",
   "execution_count": 91,
   "metadata": {},
   "outputs": [
    {
     "ename": "NameError",
     "evalue": "name 'val_similarity' is not defined",
     "output_type": "error",
     "traceback": [
      "\u001b[1;31m---------------------------------------------------------------------------\u001b[0m",
      "\u001b[1;31mNameError\u001b[0m                                 Traceback (most recent call last)",
      "Cell \u001b[1;32mIn[91], line 1\u001b[0m\n\u001b[1;32m----> 1\u001b[0m \u001b[39mprint\u001b[39m(val_similarity)\n",
      "\u001b[1;31mNameError\u001b[0m: name 'val_similarity' is not defined"
     ]
    }
   ],
   "source": [
    "print(val_similarity)"
   ]
  },
  {
   "cell_type": "code",
   "execution_count": null,
   "metadata": {},
   "outputs": [],
   "source": []
  },
  {
   "attachments": {},
   "cell_type": "markdown",
   "metadata": {},
   "source": [
    "# ~~~~~~~~~~~~~~"
   ]
  },
  {
   "cell_type": "code",
   "execution_count": null,
   "metadata": {},
   "outputs": [],
   "source": [
    "if cross_validation:\n",
    "\n",
    "    fig, ax = plt.subplots()\n",
    "    ax.imshow(val_similarity, cmap = \"gray_r\")\n",
    "\n",
    "    labels = [item.get_text() for item in ax.get_yticklabels()]\n",
    "    for i in range(1, len(labels) - 1):\n",
    "        labels[i] = genre_list[i - 1]\n",
    "\n",
    "    ax.set_xticklabels(labels, rotation = 45, ha = \"right\")\n",
    "    ax.set_yticklabels(labels)\n",
    "\n",
    "    ax.set_xlabel(\"Actual class\")\n",
    "    ax.set_ylabel(\"Predicted class\")\n",
    "    ax.set_title(\"Validation Classification Matrix\")\n",
    "\n",
    "    plt.show()"
   ]
  },
  {
   "cell_type": "code",
   "execution_count": null,
   "metadata": {},
   "outputs": [],
   "source": [
    "if cross_validation and generate:\n",
    "\n",
    "    fig, ax = plt.subplots()\n",
    "    ax.imshow(test_similarity, cmap = \"gray_r\")\n",
    "\n",
    "    labels = [item.get_text() for item in ax.get_yticklabels()]\n",
    "    for i in range(1, len(labels) - 1):\n",
    "        labels[i] = genre_list[i - 1]\n",
    "\n",
    "    ax.set_xticklabels(labels, rotation = 45, ha = \"right\")\n",
    "    ax.set_yticklabels(labels)\n",
    "\n",
    "    ax.set_xlabel(\"Actual class\")\n",
    "    ax.set_ylabel(\"Predicted class\")\n",
    "    ax.set_title(\"Test Classification Matrix\")\n",
    "\n",
    "    plt.show()"
   ]
  },
  {
   "cell_type": "code",
   "execution_count": null,
   "metadata": {},
   "outputs": [],
   "source": [
    "if not cross_validation and generate:\n",
    "    test_id_list = val_id_list\n",
    "\n",
    "if generate:\n",
    "    test_similarity = np.zeros((len(label_list), len(label_list)))\n",
    "\n",
    "    test_pred_probs = model.predict(temp(test_id_list))#generate_data(test_id_list, audio_dict=audio_dict, clip_length=clip_length, shift_length=shift_length, resize_dim=resize_dim, label_list=label_list, image_folderpath=image_folderpath, gen_batch_size=5, mode=\"test\"))\n",
    "    test_pred_classes = test_pred_probs.argmax(axis=1)\n",
    "    test_actual = get_labels(get_clip_ids(val_id_list, audio_dict=audio_dict, clip_length=clip_length, shift_length=shift_length), label_list=label_list)\n",
    "    for i in range(len(test_pred_classes)):\n",
    "        test_similarity[test_pred_classes[i]][test_actual[i]] += 1\n",
    "    for i in range(len(label_list)):\n",
    "        test_similarity[:, i] = test_similarity[:, i]/sum(test_similarity[:, i])"
   ]
  },
  {
   "cell_type": "code",
   "execution_count": null,
   "metadata": {},
   "outputs": [],
   "source": [
    "if not cross_validation and generate:\n",
    "    test_id_list = val_id_list\n",
    "\n",
    "t_ids, t_imgs, t_labels = return_data(val_id_list, audio_dict=audio_dict, clip_length=clip_length, shift_length=shift_length, resize_dim=resize_dim, label_list=label_list, image_folderpath=image_folderpath)\n",
    "\n",
    "test_similarity = np.zeros((len(label_list), len(label_list)))\n",
    "\n",
    "test_pred_probs = model.predict(t_imgs)\n",
    "test_pred_classes = test_pred_probs.argmax(axis=1)\n",
    "test_actual = t_labels\n",
    "for i in range(len(test_pred_classes)):\n",
    "    test_similarity[test_pred_classes[i]][test_actual[i]] += 1\n",
    "for i in range(len(label_list)):\n",
    "    test_similarity[:, i] = test_similarity[:, i]/sum(test_similarity[:, i])"
   ]
  },
  {
   "cell_type": "code",
   "execution_count": null,
   "metadata": {},
   "outputs": [],
   "source": [
    "'''norm_test_similarity = np.zeros(test_similarity.shape)\n",
    "for i in range(len(label_list)):\n",
    "    norm_test_similarity[:, i] = test_similarity[:, i]/sum(test_similarity[:, i])\n",
    "'''\n",
    "\n",
    "fig, ax = plt.subplots()\n",
    "ax.imshow(test_similarity, cmap = \"gray_r\")\n",
    "\n",
    "labels = [item.get_text() for item in ax.get_yticklabels()]\n",
    "for i in range(1, len(labels) - 1):\n",
    "    labels[i] = genre_list[i - 1]\n",
    "\n",
    "ax.set_xticklabels(labels, rotation = 45, ha = \"right\")\n",
    "ax.set_yticklabels(labels)\n",
    "\n",
    "ax.set_xlabel(\"Actual class\")\n",
    "ax.set_ylabel(\"Predicted class\")\n",
    "ax.set_title(\"Test Classification Matrix\")\n",
    "\n",
    "plt.show()"
   ]
  },
  {
   "cell_type": "code",
   "execution_count": null,
   "metadata": {},
   "outputs": [],
   "source": [
    "def play(id):\n",
    "    info = id.split('_')\n",
    "    song_id = info[0]\n",
    "    channel = int(info[1][-1])\n",
    "    start_time = info[2]\n",
    "    end_time = info[3]\n",
    "\n",
    "    filepath = audio_dict[song_id]\n",
    "    y, sr = librosa.load(filepath)\n",
    "\n",
    "    audio_segment = y[int(float(start_time) * sr) : int(float(end_time) * sr)]\n",
    "\n",
    "    return Audio(audio_segment, rate = sr)\n",
    "\n"
   ]
  },
  {
   "cell_type": "code",
   "execution_count": null,
   "metadata": {},
   "outputs": [],
   "source": [
    "def classified_as(id_list, pred_list, actual_list, pred_class, actual_class):\n",
    "    output = []\n",
    "    for i in range(len(id_list)):\n",
    "        id = id_list[i]\n",
    "        pred = pred_list[i]\n",
    "        actual = actual_list[i]\n",
    "        if (pred == pred_class):\n",
    "            if (actual == actual_class):\n",
    "                output.append(id)\n",
    "    \n",
    "    return output\n",
    "            "
   ]
  },
  {
   "cell_type": "code",
   "execution_count": null,
   "metadata": {},
   "outputs": [],
   "source": [
    "c = classified_as(t_ids, pred_list=test_pred_classes, actual_list=test_actual, pred_class=2, actual_class=2)"
   ]
  },
  {
   "cell_type": "code",
   "execution_count": null,
   "metadata": {},
   "outputs": [],
   "source": [
    "example = random.randint(0, len(c) - 1)\n",
    "print(c[example])\n",
    "print(audio_dict[c[example][:4]])\n",
    "play(c[example])"
   ]
  },
  {
   "cell_type": "markdown",
   "metadata": {},
   "source": [
    "# WITH PYTORCH"
   ]
  },
  {
   "cell_type": "code",
   "execution_count": null,
   "metadata": {},
   "outputs": [],
   "source": [
    "import torch\n",
    "print(torch.cuda.is_available())\n",
    "print(torch.cuda.current_device())\n",
    "print(torch.cuda.device(0))\n",
    "print(torch.cuda.get_device_name(0))"
   ]
  },
  {
   "cell_type": "code",
   "execution_count": null,
   "metadata": {},
   "outputs": [],
   "source": []
  },
  {
   "cell_type": "markdown",
   "metadata": {},
   "source": [
    "# MY CNN"
   ]
  },
  {
   "cell_type": "code",
   "execution_count": null,
   "metadata": {},
   "outputs": [],
   "source": []
  },
  {
   "cell_type": "code",
   "execution_count": null,
   "metadata": {},
   "outputs": [],
   "source": [
    "from cnn.activation import Tanh, Sigmoid, ReLU\n",
    "from cnn.convolutional import Convolutional\n",
    "from cnn.dense import Dense\n",
    "from cnn.loss import MSE, MSE_prime, binary_cross_entropy, binary_cross_entropy_prime\n",
    "from cnn.nn import MNIST\n",
    "from cnn.reshape import Reshape"
   ]
  },
  {
   "cell_type": "code",
   "execution_count": null,
   "metadata": {},
   "outputs": [],
   "source": [
    "from keras.utils import np_utils\n"
   ]
  },
  {
   "cell_type": "code",
   "execution_count": null,
   "metadata": {},
   "outputs": [],
   "source": [
    "t1 = np.array([[0, 0], [1, 1], [2, 2], [3, 3]])\n",
    "t2 = np.array([0, 1, 2, 3])\n",
    "\n",
    "indices = random.sample(range(len(t1)), len(t1))\n",
    "\n",
    "t1 = t1[indices]\n",
    "t2 = t2[indices]\n",
    "\n",
    "print(t1)\n",
    "print(t2)"
   ]
  },
  {
   "cell_type": "code",
   "execution_count": null,
   "metadata": {},
   "outputs": [],
   "source": [
    "def preprocess_data(x, y, limit):\n",
    "    #zero_index = np.where(y == 0)[0][:limit]\n",
    "    #one_index = np.where(y == 1)[0][:limit]\n",
    "    \n",
    "\n",
    "    #all_indices = np.random.permutation(np.hstack((zero_index, one_index)))\n",
    "\n",
    "    #x, y = x[all_indices], y[all_indices]\n",
    "\n",
    "    #x = (x.reshape(len(x), 1, 28, 28)).astype(\"float32\") / 255\n",
    "\n",
    "    #y = np_utils.to_categorical(y)\n",
    "    #y = y.reshape(len(y), 2, 1)\n",
    "\n",
    "    return x, y"
   ]
  },
  {
   "cell_type": "code",
   "execution_count": null,
   "metadata": {},
   "outputs": [],
   "source": [
    "y_train.reshape(len(y_train), 2, 1).shape"
   ]
  },
  {
   "cell_type": "code",
   "execution_count": null,
   "metadata": {},
   "outputs": [],
   "source": [
    "x_train = x_train.reshape(len(x_train), 1, resize_dim, resize_dim)\n",
    "x_test = x_test.reshape(len(x_test), 1, resize_dim, resize_dim)\n",
    "\n"
   ]
  },
  {
   "cell_type": "code",
   "execution_count": null,
   "metadata": {},
   "outputs": [],
   "source": [
    "y_train = np_utils.to_categorical(y_train)\n",
    "y_train = y_train.reshape(len(y_train), len(y_train[0]), 1)\n",
    "y_test = np_utils.to_categorical(y_test)\n",
    "y_test = y_test.reshape(len(y_test), len(y_test[0]), 1)"
   ]
  },
  {
   "cell_type": "code",
   "execution_count": null,
   "metadata": {},
   "outputs": [],
   "source": [
    "\n",
    "train_indices = random.sample(range(len(x_train)), len(x_train))\n",
    "test_indices = random.sample(range(len(x_test)), len(x_test))\n",
    "\n",
    "x_train = x_train[train_indices]\n",
    "y_train = y_train[train_indices]\n",
    "\n",
    "x_test = x_test[test_indices]\n",
    "y_test = y_test[test_indices]"
   ]
  },
  {
   "cell_type": "code",
   "execution_count": null,
   "metadata": {},
   "outputs": [],
   "source": [
    "t1 = [[0, 0], [1, 1], [2, 2]]\n",
    "t2 = [0, 1, 2]\n",
    "\n",
    "zip(t1, t2)"
   ]
  },
  {
   "cell_type": "code",
   "execution_count": null,
   "metadata": {},
   "outputs": [],
   "source": [
    "network = [\n",
    "    Convolutional((1, resize_dim, resize_dim), 3, 5),\n",
    "    Sigmoid(),\n",
    "    Reshape((5, resize_dim - 2, resize_dim - 2), (5 * (resize_dim - 2) * (resize_dim - 2), 1)),\n",
    "    Dense(5*(resize_dim - 2)*(resize_dim - 2), 100),\n",
    "    Sigmoid(),\n",
    "    Dense(100, 5),\n",
    "    Sigmoid()\n",
    "]"
   ]
  },
  {
   "cell_type": "code",
   "execution_count": null,
   "metadata": {},
   "outputs": [],
   "source": [
    "from cnn.pooling import MaxPooling\n",
    "# TODO: test forward"
   ]
  },
  {
   "cell_type": "code",
   "execution_count": null,
   "metadata": {},
   "outputs": [],
   "source": [
    "arr = np.random.randint(20, size=(4, 4))\n",
    "\n",
    "pool_shape = (2, 2)\n",
    "\n",
    "output = np.zeros((int(arr.shape[0]/pool_shape[0]), int(arr.shape[1]/pool_shape[1])))\n",
    "\n",
    "i, j = 0, 0\n",
    "\n",
    "for i in range(output.shape[0]):\n",
    "    for j in range(output.shape[1]):\n",
    "        temp = np.max(arr[i*pool_shape[0]:(i+1)*pool_shape[0], j*pool_shape[1]:j*pool_shape[1]+2])\n",
    "        output[i][j] = temp#np.max(arr[i*pool_shape[0]:(i+1)*pool_shape[0]][j*pool_shape[1]:(j+1)*pool_shape[1]])\n",
    "\n",
    "print(arr)\n",
    "print(output)"
   ]
  },
  {
   "cell_type": "code",
   "execution_count": null,
   "metadata": {},
   "outputs": [],
   "source": [
    "\n",
    "epochs = 10\n",
    "learning_rate = 0.01\n",
    "\n",
    "for e in range(epochs):\n",
    "    error = 0\n",
    "\n",
    "    temp = zip(x_train, y_train)\n",
    "    for x, y in zip(x_train, y_train):\n",
    "        output = x\n",
    "        for layer in network:\n",
    "            output = layer.forward(output)\n",
    "        \n",
    "        error += MSE(y, output)\n",
    "\n",
    "        grad = MSE_prime(y, output)\n",
    "        for layer in reversed(network):\n",
    "            grad = layer.backward(grad, learning_rate)\n",
    "    \n",
    "    error /= len(x_train)\n",
    "    print(f\"{e + 1}/{epochs}, error = {error}\")\n",
    "\n",
    "\n",
    "    correct = 0\n",
    "    total = 0\n",
    "\n",
    "    for x, y in zip(x_test, y_test):\n",
    "        output = x\n",
    "        for layer in network:\n",
    "            output = layer.forward(output)\n",
    "        print(f\"     pred: {np.argmax(output)}, true: {np.argmax(y)}\")\n",
    "        total += 1\n",
    "        if np.argmax(output) == np.argmax(y):\n",
    "            correct += 1\n",
    "    print(f\"correct: {correct}, total: {total}\\n\\n\")\n",
    "\n",
    "\n",
    "correct = 0\n",
    "total = 0\n",
    "\n",
    "for x, y in zip(x_test, y_test):\n",
    "    output = x\n",
    "    for layer in network:\n",
    "        output = layer.forward(output)\n",
    "    print(f\"pred: {np.argmax(output)}, true: {np.argmax(y)}\")\n",
    "    total += 1\n",
    "    if np.argmax(output) == np.argmax(y):\n",
    "        correct += 1\n",
    "print(f\"correct: {correct}, total: {total}\")"
   ]
  },
  {
   "cell_type": "code",
   "execution_count": null,
   "metadata": {},
   "outputs": [],
   "source": [
    "audio_folderpath = \"C:/Users/anany/Cambridge/Part II Project/data/raw\"\n",
    "image_folderpath = \"C:/Users/anany\\Cambridge\\Part II Project\\data\\images\"\n",
    "split_ratio = 0.75\n",
    "image_type = \"spectrogram\"\n",
    "clip_length = 10\n",
    "shift_length = 500\n",
    "resize_dim = 28"
   ]
  },
  {
   "cell_type": "code",
   "execution_count": null,
   "metadata": {},
   "outputs": [],
   "source": [
    "'''temp = train_imgs.reshape((74, 1, 28, 28, 4))\n",
    "\n",
    "temp.shape'''"
   ]
  },
  {
   "cell_type": "code",
   "execution_count": null,
   "metadata": {},
   "outputs": [],
   "source": [
    "'''network = [\n",
    "        Convolutional(input_shape=(1, 28, 28, 4), kernel_size=3, depth=5), # output_shape=()\n",
    "        Sigmoid()\n",
    "    ]'''"
   ]
  },
  {
   "cell_type": "code",
   "execution_count": null,
   "metadata": {},
   "outputs": [],
   "source": [
    "'''c = Convolutional(input_shape=(1, 28, 28, 4), kernel_size=3, depth=5), # output_shape=()\n",
    "'''"
   ]
  },
  {
   "cell_type": "code",
   "execution_count": null,
   "metadata": {},
   "outputs": [],
   "source": [
    "'''epochs = 20\n",
    "learning_rate = 0.1\n",
    "\n",
    "for e in range(epochs):\n",
    "    error = 0\n",
    "\n",
    "    temp = zip(x_train, y_train)\n",
    "    for x, y in zip(x_train, y_train):\n",
    "        output = x\n",
    "        for layer in network:\n",
    "            output = layer.forward(output)\n",
    "        \n",
    "        error += binary_cross_entropy(y, output)\n",
    "\n",
    "        grad = binary_cross_entropy_prime(y, output)\n",
    "        for layer in reversed(network):\n",
    "            grad = layer.backward(grad, learning_rate)\n",
    "    \n",
    "    error /= len(x_train)\n",
    "    print(f\"{e + 1}/{epochs}, error = {error}\")'''"
   ]
  },
  {
   "cell_type": "code",
   "execution_count": null,
   "metadata": {},
   "outputs": [],
   "source": [
    "'''MNIST()'''"
   ]
  },
  {
   "cell_type": "code",
   "execution_count": null,
   "metadata": {},
   "outputs": [],
   "source": [
    "'''arr = np.array([[[0, 1, 2, 3], [0, 1, 2, 3], [0, 1, 2, 3]], [[0, 1, 2, 3], [0, 1, 2, 3], [0, 1, 2, 3]]])\n",
    "# 2 3 4\n",
    "\n",
    "new_arr = np.moveaxis(arr, 2, 0)\n",
    "# 4 3 2\n",
    "\n",
    "new_arr[:3]'''"
   ]
  },
  {
   "cell_type": "code",
   "execution_count": null,
   "metadata": {},
   "outputs": [],
   "source": [
    "'''arr'''"
   ]
  },
  {
   "cell_type": "code",
   "execution_count": null,
   "metadata": {},
   "outputs": [],
   "source": [
    "'''arr = train_imgs[0]\n",
    "\n",
    "new_arr = np.moveaxis(arr, -1, 0)\n",
    "\n",
    "new_arr'''"
   ]
  },
  {
   "cell_type": "code",
   "execution_count": null,
   "metadata": {},
   "outputs": [],
   "source": [
    "MNIST()"
   ]
  },
  {
   "cell_type": "markdown",
   "metadata": {},
   "source": [
    "# ANALYSIS"
   ]
  },
  {
   "attachments": {},
   "cell_type": "markdown",
   "metadata": {},
   "source": [
    "PLOTS"
   ]
  },
  {
   "cell_type": "code",
   "execution_count": null,
   "metadata": {},
   "outputs": [],
   "source": [
    "plt.plot(history.history['loss'], label='Training Loss')\n",
    "plt.plot(history.history['val_loss'], label='Validation Loss')\n",
    "plt.title('Training and Validation Loss')\n",
    "plt.xlabel('Epoch')\n",
    "plt.ylabel('Loss')\n",
    "plt.legend()\n",
    "plt.show()"
   ]
  },
  {
   "cell_type": "code",
   "execution_count": null,
   "metadata": {},
   "outputs": [],
   "source": [
    "plt.plot(history.history['accuracy'], label='Training Accuracy')\n",
    "plt.plot(history.history['val_accuracy'], label='Validation Accuracy')\n",
    "plt.title('Training and Validation Accuracy')\n",
    "plt.xlabel('Epoch')\n",
    "plt.ylabel('Accuracy')\n",
    "plt.legend()\n",
    "plt.show()"
   ]
  },
  {
   "cell_type": "code",
   "execution_count": null,
   "metadata": {},
   "outputs": [],
   "source": [
    "y_pred_probs = model.predict(generate_data(test_set, mode=\"predict\"))\n",
    "\n",
    "compare = np.zeros((len(label_list), len(label_list)))\n",
    "y_pred_classes = y_pred_probs.argmax(axis=1)\n",
    "actual = y_test.T[0]\n",
    "\n",
    "for i in range(len(y_pred_classes)):\n",
    "    compare[y_pred_classes[i]][actual[i]] += 1\n",
    "\n",
    "'''for i in range(len(label_list)):\n",
    "    compare[:, i] = compare[:, i]/sum(compare[:, i])'''\n",
    "\n",
    "fig, ax = plt.subplots()\n",
    "ax.imshow(compare, cmap = \"gray_r\")\n",
    "\n",
    "labels = [item.get_text() for item in ax.get_yticklabels()]\n",
    "for i in range(1, len(labels) - 1):\n",
    "    labels[i] = genre_list[i - 1]\n",
    "\n",
    "ax.set_xticklabels(labels, rotation = 45, ha = \"right\")\n",
    "ax.set_yticklabels(labels)\n",
    "\n",
    "ax.set_xlabel(\"Actual class\")\n",
    "ax.set_ylabel(\"Predicted class\")\n",
    "ax.set_title(\"Clip Classification Matrix\")\n",
    "\n",
    "plt.show()\n"
   ]
  },
  {
   "cell_type": "code",
   "execution_count": null,
   "metadata": {},
   "outputs": [],
   "source": [
    "# similarity matrix method"
   ]
  },
  {
   "cell_type": "code",
   "execution_count": null,
   "metadata": {},
   "outputs": [],
   "source": [
    "from IPython.display import Audio\n",
    "import librosa"
   ]
  },
  {
   "cell_type": "code",
   "execution_count": null,
   "metadata": {},
   "outputs": [],
   "source": [
    "def play(id):\n",
    "    info = id.split('_')\n",
    "    song_id = info[0]\n",
    "    channel = int(info[1][-1])\n",
    "    start_time = info[2]\n",
    "    end_time = info[3]\n",
    "\n",
    "    filepath = audio_dict[song_id]\n",
    "    y, sr = librosa.load(filepath)\n",
    "\n",
    "    audio_segment = y[int(float(start_time) * sr) : int(float(end_time) * sr)]\n",
    "\n",
    "    return Audio(audio_segment, rate = sr)\n",
    "\n"
   ]
  },
  {
   "cell_type": "code",
   "execution_count": null,
   "metadata": {},
   "outputs": [],
   "source": [
    "clip_vote_dict = {}\n",
    "song_clip_dict = {}"
   ]
  },
  {
   "cell_type": "code",
   "execution_count": null,
   "metadata": {},
   "outputs": [],
   "source": [
    "for id in list(audio_dict.keys()):\n",
    "    # np.where(np.char.find(test_ids, 'r009') >= 0) ids where 'r009' appears in the string\n",
    "    if id in test_set:\n",
    "        song_clip_dict[id] = test_ids[np.where(np.char.find(test_ids, id) >= 0)]\n",
    "    else:\n",
    "        #song_clip_dict[id] = train_ids[np.where(np.char.find(train_ids, id) >= 0)]\n",
    "        pass"
   ]
  },
  {
   "cell_type": "code",
   "execution_count": null,
   "metadata": {},
   "outputs": [],
   "source": [
    "y_pred_class_onehot = np.eye(len(genre_id.keys()))[y_pred_classes]"
   ]
  },
  {
   "cell_type": "code",
   "execution_count": null,
   "metadata": {},
   "outputs": [],
   "source": [
    "for i in range(len(test_ids)):\n",
    "    id = test_ids[i]\n",
    "    if id not in clip_vote_dict.keys():\n",
    "        clip_vote_dict[id] = np.zeros(len(genre_id.keys()))\n",
    "    clip_vote_dict[id] = clip_vote_dict[id] + y_pred_class_onehot[i]\n",
    "    "
   ]
  },
  {
   "cell_type": "code",
   "execution_count": null,
   "metadata": {},
   "outputs": [],
   "source": [
    "song_vote_dict = {}"
   ]
  },
  {
   "cell_type": "code",
   "execution_count": null,
   "metadata": {},
   "outputs": [],
   "source": [
    "for song_id in test_set:\n",
    "    song_vote_dict[song_id] = np.zeros(len(genre_id.keys()))\n",
    "    for clip_id in song_clip_dict[song_id]:\n",
    "        song_vote_dict[song_id] = song_vote_dict[song_id] + clip_vote_dict[clip_id]"
   ]
  },
  {
   "cell_type": "code",
   "execution_count": null,
   "metadata": {},
   "outputs": [],
   "source": [
    "for id in song_vote_dict:\n",
    "    print(\"id: {0} pred {1} actual {2}   votes {3}\".format(id, label_list[(np.argmax(song_vote_dict[id]))], id[0], song_vote_dict[id]))"
   ]
  },
  {
   "cell_type": "code",
   "execution_count": null,
   "metadata": {},
   "outputs": [],
   "source": [
    "song_similarity = np.zeros((len(label_list), len(label_list)))\n",
    "\n",
    "for id in song_vote_dict:\n",
    "    prediction = np.argmax(song_vote_dict[id])\n",
    "    actual = label_list.index(id[0])\n",
    "    song_similarity[prediction][actual] += 1\n",
    "\n",
    "for i in range(len(label_list)):\n",
    "    if sum(song_similarity[:, i]) >= 0:\n",
    "        song_similarity[:, i] = song_similarity[:, i]/sum(song_similarity[:, i])"
   ]
  },
  {
   "cell_type": "code",
   "execution_count": null,
   "metadata": {},
   "outputs": [],
   "source": [
    "fig, ax = plt.subplots()\n",
    "ax.imshow(song_similarity, cmap = \"gray_r\")\n",
    "\n",
    "labels = [item.get_text() for item in ax.get_yticklabels()]\n",
    "for i in range(1, len(labels) - 1):\n",
    "    labels[i] = genre_list[i - 1]\n",
    "\n",
    "ax.set_xticklabels(labels, rotation = 45, ha = \"right\")\n",
    "ax.set_yticklabels(labels)\n",
    "\n",
    "ax.set_xlabel(\"Actual class\")\n",
    "ax.set_ylabel(\"Predicted class\")\n",
    "ax.set_title(\"Song Classification Matrix\")"
   ]
  },
  {
   "cell_type": "code",
   "execution_count": null,
   "metadata": {},
   "outputs": [],
   "source": [
    "def song_classifications(labels, prob_array):\n",
    "    # TODO: get probability distributions for a song\n",
    "    pass\n",
    "    # label list genre list whatever whatever\n",
    "    # do the argmax thing\n",
    "    # output probdis = numpy array of size of genres\n",
    "    # for each:\n",
    "        # vote\n",
    "    # divide by number of samples - maybe dont do this so you can add these for several runss\n",
    "\n",
    "\n",
    "# agrmax output of this to get "
   ]
  }
 ],
 "metadata": {
  "kernelspec": {
   "display_name": "Python 3 (ipykernel)",
   "language": "python",
   "name": "python3"
  },
  "language_info": {
   "codemirror_mode": {
    "name": "ipython",
    "version": 3
   },
   "file_extension": ".py",
   "mimetype": "text/x-python",
   "name": "python",
   "nbconvert_exporter": "python",
   "pygments_lexer": "ipython3",
   "version": "3.10.11"
  },
  "vscode": {
   "interpreter": {
    "hash": "1d1e73f74c8ec7a1671e8a50a2cf4a7de1dd968f28e814f9d8c3d6c3acdbc158"
   }
  }
 },
 "nbformat": 4,
 "nbformat_minor": 2
}
